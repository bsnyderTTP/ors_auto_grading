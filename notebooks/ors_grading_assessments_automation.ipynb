{
  "cells": [
    {
      "cell_type": "markdown",
      "metadata": {
        "id": "z9G9WkkelNOR"
      },
      "source": [
        "# ORS Assessment Test Automatic Grader\n",
        "Automate grading assessment tests and output a report in excel format\n",
        "\n",
        "**Requirments**\n",
        "1. Get the correct answers of the assessment\n",
        "1. Filter by student (also filter by datetime for current cohort)\n",
        "1. Find the pre-class assessment\n",
        "1. Find the post-class assessment\n",
        "1. Find reattempts of tests\n",
        "1. Show only answers of the questions students get wrong\n",
        "1. Transpose from wide data to long data\n",
        "  1. Column: Attempts (labels: pre-class test, post-class test, reattempts)\n",
        "  1. Row: Scores, Questions 1 - 20\n",
        "1. Save into `.xlsx` file\n",
        "\n",
        "**Tasks**\n",
        "- Provide dataset of the students (`.csv` or google sheets api)\n",
        "- Provide student names"
      ]
    },
    {
      "cell_type": "markdown",
      "metadata": {
        "id": "aGcIBhPHxZGD"
      },
      "source": [
        "## Install Required Libraries & Import"
      ]
    },
    {
      "cell_type": "code",
      "execution_count": null,
      "metadata": {
        "id": "dHFgcwlrpCpY"
      },
      "outputs": [],
      "source": [
        "import pandas as pd\n",
        "import numpy as np\n",
        "import os"
      ]
    },
    {
      "cell_type": "markdown",
      "metadata": {
        "id": "yKCXKn-lxs_I"
      },
      "source": [
        "## Create Folders & Upload Files\n",
        "- Assessment test responses `.csv` file from this [link](https://drive.google.com/drive/folders/142C-KrYeCN2GnEUiyou6cvDYIOyOWKkt?usp=drive_link)\n",
        "\n",
        "- Student information from this [link](https://nyplorg-my.sharepoint.com/:x:/g/personal/kangchen_nypl_org/EVcsHhpkqM9Fteg3pnvZBZoBRawkm43iJZF-3YE5hgRyCA?email=kangchen%40nypl.org&e=l5Vz5w)"
      ]
    },
    {
      "cell_type": "code",
      "execution_count": null,
      "metadata": {},
      "outputs": [],
      "source": [
        "cwd = os.getcwd()\n",
        "data_dir = 'data'\n",
        "if not os.path.exists(data_dir):\n",
        "    path = os.path.join(cwd, data_dir)\n",
        "    os.mkdir(os.path.join(cwd, data_dir))\n",
        "    print('Folder created at: {}'.format(path))"
      ]
    },
    {
      "cell_type": "markdown",
      "metadata": {
        "id": "hoMC3cJkLFqK"
      },
      "source": [
        "## Set Variables"
      ]
    },
    {
      "cell_type": "code",
      "execution_count": null,
      "metadata": {
        "id": "0ln4S17ULJTh"
      },
      "outputs": [],
      "source": [
        "# set assessment dates\n",
        "test_dates =['2023-09-13', '2023-09-16', '2023-10-14', '2023-10-28', '2023-11-04','2023-11-18', '2023-11-25', '2023-12-02', '2023-12-09']\n",
        "test_dates = [pd.to_datetime(date) for date in test_dates]\n",
        "print(test_dates)"
      ]
    },
    {
      "cell_type": "code",
      "execution_count": null,
      "metadata": {},
      "outputs": [],
      "source": [
        "# set what software the assessment is for\n",
        "program = 'excel'\n",
        "student_csv = os.path.join(path, 'ors_stu_info.csv')\n",
        "test_responses = os.path.join(path, f'ors_{program}_assessment_responses.csv')\n",
        "print(test_responses)"
      ]
    },
    {
      "cell_type": "markdown",
      "metadata": {
        "id": "mlL2lXadyHIM"
      },
      "source": [
        "## Process Names"
      ]
    },
    {
      "cell_type": "code",
      "execution_count": null,
      "metadata": {
        "colab": {
          "base_uri": "https://localhost:8080/",
          "height": 763
        },
        "id": "33B-B4EJlBUc",
        "outputId": "9e75e390-aba1-4504-cc50-96e7132530e8"
      },
      "outputs": [],
      "source": [
        "# set variables\n",
        "df = pd.read_csv(student_csv)\n",
        "df"
      ]
    },
    {
      "cell_type": "markdown",
      "metadata": {
        "id": "IAdqTCDy_2y8"
      },
      "source": [
        "### Preprocess names"
      ]
    },
    {
      "cell_type": "code",
      "execution_count": null,
      "metadata": {
        "id": "of29XR-myVAJ"
      },
      "outputs": [],
      "source": [
        "# drop inactive students\n",
        "df = df.loc[df.Drop is not True]"
      ]
    },
    {
      "cell_type": "code",
      "execution_count": null,
      "metadata": {
        "id": "1COyr2eLC-fK"
      },
      "outputs": [],
      "source": [
        "student_info = df[['FirstName', 'LastName', 'Email']]"
      ]
    },
    {
      "cell_type": "code",
      "execution_count": null,
      "metadata": {
        "id": "JA7NLXbgytT8"
      },
      "outputs": [],
      "source": [
        "names = df[['FirstName', 'LastName']]"
      ]
    },
    {
      "cell_type": "code",
      "execution_count": null,
      "metadata": {
        "colab": {
          "base_uri": "https://localhost:8080/"
        },
        "id": "SIKfqCGwzuM9",
        "outputId": "db29aeb6-ff20-4b32-82b8-9ce3b44145a7"
      },
      "outputs": [],
      "source": [
        "names.loc[names.FirstName == 'Eleanor', ['FirstName']] = 'E'"
      ]
    },
    {
      "cell_type": "code",
      "execution_count": null,
      "metadata": {
        "colab": {
          "base_uri": "https://localhost:8080/"
        },
        "id": "dHuJ6_A7_S-g",
        "outputId": "79517b4a-7b98-4d91-848d-2936055a63fd"
      },
      "outputs": [],
      "source": [
        "# fix error values firstname = lastname\n",
        "names.iloc[2,0] =names.iloc[2][0].split(' ')[0]\n",
        "names.iloc[2,1] =names.iloc[2][1].split(' ')[1]"
      ]
    },
    {
      "cell_type": "code",
      "execution_count": null,
      "metadata": {
        "colab": {
          "base_uri": "https://localhost:8080/"
        },
        "id": "YmCMvDXg_-A_",
        "outputId": "669e6ace-b464-425f-f00a-a9d32ec1ec2d"
      },
      "outputs": [],
      "source": [
        "names.FirstName = names.FirstName.str.lower().str.strip()\n",
        "names.LastName = names.LastName.str.lower().str.replace(' ', '')"
      ]
    },
    {
      "cell_type": "code",
      "execution_count": null,
      "metadata": {
        "id": "eW98dicPG4Yr"
      },
      "outputs": [],
      "source": [
        "fullnames = pd.DataFrame(names.FirstName + ' ' + names.LastName, columns=['fullname'])"
      ]
    },
    {
      "cell_type": "code",
      "execution_count": null,
      "metadata": {
        "id": "fYOs5JfO0JAZ"
      },
      "outputs": [],
      "source": [
        "fullnames.sort_values(by='fullname', inplace=True)"
      ]
    },
    {
      "cell_type": "markdown",
      "metadata": {
        "id": "E1_4QCrfAQgX"
      },
      "source": [
        "## Process Responses"
      ]
    },
    {
      "cell_type": "code",
      "execution_count": null,
      "metadata": {
        "colab": {
          "base_uri": "https://localhost:8080/"
        },
        "id": "PetkABQO0Pw4",
        "outputId": "12a23e18-ecf2-42b9-9e3b-3542f6f3ef77"
      },
      "outputs": [],
      "source": [
        "test_df = pd.read_csv(test_responses)\n",
        "test_df.info()"
      ]
    },
    {
      "cell_type": "code",
      "execution_count": null,
      "metadata": {
        "id": "rC3qxKy3Lgko"
      },
      "outputs": [],
      "source": [
        "# rename columns\n",
        "col_names_to_replace = list(test_df.columns)\n",
        "col_names = ['timestamp', 'email', 'score', 'firstname', 'lastname']\n",
        "\n",
        "for i in range(1,len(col_names_to_replace)-4):\n",
        "  col_names.append(f'Q{i}')\n",
        "\n",
        "col_mapper = dict.fromkeys(col_names_to_replace)\n",
        "for i, col in enumerate(col_names_to_replace):\n",
        "  col_mapper[col] = col_names[i]\n",
        "\n",
        "test_df.rename(columns=col_mapper, inplace=True)"
      ]
    },
    {
      "cell_type": "markdown",
      "metadata": {
        "id": "25MnhPa8-QI9"
      },
      "source": [
        "### Preprocess first and last name"
      ]
    },
    {
      "cell_type": "code",
      "execution_count": null,
      "metadata": {
        "colab": {
          "base_uri": "https://localhost:8080/",
          "height": 933
        },
        "id": "xPETQN3b-WFM",
        "outputId": "32e8a308-6a53-4fd0-9871-b710174e973c"
      },
      "outputs": [],
      "source": [
        "test_df.firstname = test_df.firstname.str.strip().str.lower()\n",
        "test_df.lastname = test_df.lastname.str.strip().str.lower()\n",
        "test_df.head(5)"
      ]
    },
    {
      "cell_type": "code",
      "execution_count": null,
      "metadata": {
        "id": "zFOyg8CwGeFh"
      },
      "outputs": [],
      "source": [
        "# correct error values: elsa divinagracia = elsa\n",
        "test_df.loc[(test_df.lastname == 'wilson') & (test_df.firstname == 'elsa divinagracia'), 'firstname'] = 'elsa'"
      ]
    },
    {
      "cell_type": "markdown",
      "metadata": {
        "id": "wosBFFwkGR-6"
      },
      "source": [
        "### Get Answers"
      ]
    },
    {
      "cell_type": "code",
      "execution_count": null,
      "metadata": {
        "colab": {
          "base_uri": "https://localhost:8080/"
        },
        "id": "NDcud1iC1suR",
        "outputId": "ffbc51ea-1f06-40e9-e73d-635832465ffa"
      },
      "outputs": [],
      "source": [
        "answer_row = test_df[test_df.score == '100 / 100'].tail(1).reset_index(drop=True)\n",
        "answer_row.iloc[:,:5] = np.nan\n",
        "answer_key = answer_row.iloc[:,5:]\n",
        "answer_dict = answer_key.to_dict(orient='records')[0]"
      ]
    },
    {
      "cell_type": "code",
      "execution_count": null,
      "metadata": {
        "colab": {
          "base_uri": "https://localhost:8080/"
        },
        "id": "7oMaxaAt8L62",
        "outputId": "72e884ef-3534-43fa-b047-41c103c786d1"
      },
      "outputs": [],
      "source": [
        "answer_dict"
      ]
    },
    {
      "cell_type": "markdown",
      "metadata": {
        "id": "r-ymdP-6FPhe"
      },
      "source": [
        "### Get Data Base on Test Date and Student Name"
      ]
    },
    {
      "cell_type": "code",
      "execution_count": null,
      "metadata": {
        "id": "P3w_BxFfA-KI"
      },
      "outputs": [],
      "source": [
        "# convert timestamp to datetime dtype\n",
        "test_df.timestamp = pd.to_datetime(test_df.timestamp, format='%m/%d/%Y %H:%M:%S', errors='coerce')"
      ]
    },
    {
      "cell_type": "code",
      "execution_count": null,
      "metadata": {
        "colab": {
          "base_uri": "https://localhost:8080/"
        },
        "id": "rDpwJFfX8vFn",
        "outputId": "3ec7ed1b-ce98-49bf-84da-0e7571e68e41"
      },
      "outputs": [],
      "source": [
        "test_df.info()"
      ]
    },
    {
      "cell_type": "code",
      "execution_count": null,
      "metadata": {
        "id": "q8sCQoGWIoIO"
      },
      "outputs": [],
      "source": [
        "# get all tests from test dates\n",
        "all_word_assessment = test_df[test_df.timestamp.dt.date.isin([d.date() for d in test_dates])]"
      ]
    },
    {
      "cell_type": "code",
      "execution_count": null,
      "metadata": {
        "colab": {
          "base_uri": "https://localhost:8080/"
        },
        "id": "cfMMNhWiOFLL",
        "outputId": "33366490-f548-4f52-c265-0d3789b690b8"
      },
      "outputs": [],
      "source": [
        "# check student names and test count\n",
        "all_word_assessment[all_word_assessment.firstname.isin(names.FirstName)].firstname.value_counts().sort_index()"
      ]
    },
    {
      "cell_type": "code",
      "execution_count": null,
      "metadata": {
        "id": "De2QINvrVsY9"
      },
      "outputs": [],
      "source": [
        "# all section 4 word test data\n",
        "sect4_word_test = all_word_assessment[all_word_assessment.firstname.isin(names.FirstName)]\n",
        "sect4_word_test.reset_index(drop=True, inplace=True)"
      ]
    },
    {
      "cell_type": "markdown",
      "metadata": {
        "id": "bo3GGf9l3zhU"
      },
      "source": [
        "## Generate Excel Reports"
      ]
    },
    {
      "cell_type": "markdown",
      "metadata": {
        "id": "AA7XltctFh19"
      },
      "source": [
        "### Filter Incorrect Answers"
      ]
    },
    {
      "cell_type": "code",
      "execution_count": null,
      "metadata": {
        "id": "TQcEZ6mFn4Ex"
      },
      "outputs": [],
      "source": [
        "info_df = sect4_word_test.iloc[:,:5] # student info\n",
        "responses_df = sect4_word_test.iloc[:,5:] # student response\n",
        "wrong_answer_filter = responses_df != pd.concat([answer_key] * responses_df.shape[0], ignore_index=True)\n",
        "wrong_answer_df = responses_df[wrong_answer_filter] # retain answer values that are incorrect"
      ]
    },
    {
      "cell_type": "code",
      "execution_count": null,
      "metadata": {
        "id": "6fDv6VJkqTL2"
      },
      "outputs": [],
      "source": [
        "# final dataframe with all student information and the questions the got wrong\n",
        "final_results = pd.concat([info_df, wrong_answer_df], axis=1)"
      ]
    },
    {
      "cell_type": "code",
      "execution_count": null,
      "metadata": {
        "colab": {
          "base_uri": "https://localhost:8080/"
        },
        "id": "QJWxCHehqTKH",
        "outputId": "4a4a511f-f491-4a4e-9816-da3426afae83"
      },
      "outputs": [],
      "source": [
        "final_results.head(2)"
      ]
    },
    {
      "cell_type": "markdown",
      "metadata": {
        "id": "zHrGO82sICao"
      },
      "source": [
        "### Save All Results to Dictionary"
      ]
    },
    {
      "cell_type": "code",
      "execution_count": null,
      "metadata": {
        "id": "i4PefOkCqTAt"
      },
      "outputs": [],
      "source": [
        "cols_to_show_list = []\n",
        "grades_dict = {}\n",
        "cols_to_drop = ['timestamp', 'email', 'score', 'firstname', 'lastname']\n",
        "\n",
        "# iterate through each row\n",
        "for i, row in final_results.iterrows():\n",
        "  cols = list(final_results.columns[row.notna()]) # columns that don't contain null values\n",
        "  cols_to_show_list.append(cols)\n",
        "\n",
        "  # student answers\n",
        "  stu_name = row.firstname.strip() + \" \" + row.lastname.strip()\n",
        "  test_time = str(row.timestamp)\n",
        "\n",
        "  # check if name exists\n",
        "  if grades_dict.get(stu_name) == None:\n",
        "    grades_dict[stu_name] = {}\n",
        "  if grades_dict[stu_name].get(test_time) == None:\n",
        "    grades_dict[stu_name][test_time] = {\n",
        "        'score': row.score.split(' / ')[0],\n",
        "        'res': pd.DataFrame(row.loc[cols]).T.drop(columns=cols_to_drop),\n",
        "        'ans': answer_row[cols].drop(columns=cols_to_drop)\n",
        "    }\n",
        "  else:\n",
        "    print(row.timestamp)"
      ]
    },
    {
      "cell_type": "markdown",
      "metadata": {
        "id": "wySdxRpqYTof"
      },
      "source": [
        "### Get everyones score -> Save to one single excel file"
      ]
    },
    {
      "cell_type": "code",
      "execution_count": null,
      "metadata": {
        "colab": {
          "base_uri": "https://localhost:8080/"
        },
        "id": "E_mBYrcVUf6g",
        "outputId": "2187d9f0-f2a2-4089-92e7-b0c497fc4628"
      },
      "outputs": [],
      "source": [
        "pre_class_scores = []\n",
        "post_class_scores = []\n",
        "\n",
        "for name in fullnames.fullname.to_list():\n",
        "  print(name)\n",
        "  scores_list = []\n",
        "  for i, tup in enumerate(grades_dict[name].items()):\n",
        "    # get pre-class assessment score\n",
        "    if i == 0:\n",
        "      _, score_dict = tup\n",
        "      pre_score = float(score_dict['score'])\n",
        "      pre_class_scores.append(pre_score)\n",
        "      print('pre-class:', pre_score)\n",
        "      continue\n",
        "\n",
        "    _, score_dict = tup\n",
        "    scores_list.append(float(score_dict['score']))\n",
        "\n",
        "  # get post-class assessment highest score\n",
        "  if len(scores_list) == 0:\n",
        "    post_class_scores.append(np.NaN)\n",
        "    print('post-class:', np.NAN)\n",
        "  else:\n",
        "    highest_grade_idx = np.argmax(np.array(scores_list))\n",
        "    highest_score = scores_list[highest_grade_idx]\n",
        "    post_class_scores.append(highest_score)\n",
        "    print('post-class:', highest_score)\n",
        "  print('------')"
      ]
    },
    {
      "cell_type": "code",
      "execution_count": null,
      "metadata": {
        "colab": {
          "base_uri": "https://localhost:8080/",
          "height": 551
        },
        "id": "rp5Jd2BfcLw2",
        "outputId": "f0031301-c6fc-4142-8ed3-404ae7f02e02"
      },
      "outputs": [],
      "source": [
        "full_student_grades = pd.DataFrame([fullnames.fullname.to_list(), pre_class_scores, post_class_scores]).T\n",
        "full_student_grades.columns = ['name', 'pre-class', 'post-class']\n",
        "full_student_grades"
      ]
    },
    {
      "cell_type": "markdown",
      "metadata": {
        "id": "ivgkuREmmyFA"
      },
      "source": [
        "### Save Results -> DataFrame -> Excel"
      ]
    },
    {
      "cell_type": "code",
      "execution_count": null,
      "metadata": {},
      "outputs": [],
      "source": [
        "out_path = os.path.join(cwd, 'output', program)\n",
        "os.makedirs(out_path, exist_ok=True)\n",
        "print('Folder created at: {}'.format(out_path))"
      ]
    },
    {
      "cell_type": "markdown",
      "metadata": {},
      "source": [
        "#### Full student report"
      ]
    },
    {
      "cell_type": "code",
      "execution_count": null,
      "metadata": {
        "id": "cI0hPTsifKFw"
      },
      "outputs": [],
      "source": [
        "full_report_path = os.path.join(out_path, f'0_all_student_{program}_report.xlsx')\n",
        "\n",
        "if os.path.exists(full_report_path):\n",
        "    raise Exception(f'File already exists at: {full_report_path}\\n'\n",
        "                    'To create new report remove existing file')\n",
        "else:    \n",
        "    full_student_grades.to_excel(full_report_path, sheet_name=f'{program}_grades', index=False)\n",
        "    if os.path.exists(full_report_path):\n",
        "        print('Full student report created')"
      ]
    },
    {
      "cell_type": "markdown",
      "metadata": {},
      "source": [
        "#### Answers"
      ]
    },
    {
      "cell_type": "code",
      "execution_count": null,
      "metadata": {
        "colab": {
          "base_uri": "https://localhost:8080/"
        },
        "id": "lbvpQCMVtsej",
        "outputId": "26278d79-9557-498d-80dc-70b8eb5b12f5"
      },
      "outputs": [],
      "source": [
        "# check length of data\n",
        "names.shape[0] == final_results.firstname.value_counts().count()"
      ]
    },
    {
      "cell_type": "code",
      "execution_count": null,
      "metadata": {
        "colab": {
          "base_uri": "https://localhost:8080/"
        },
        "id": "XVG9o6wLuFGS",
        "outputId": "1891f988-b704-4ab4-dd74-e1f0a16e5fd5"
      },
      "outputs": [],
      "source": [
        "names.shape[0] == final_results.lastname.value_counts().count()"
      ]
    },
    {
      "cell_type": "code",
      "execution_count": null,
      "metadata": {
        "colab": {
          "base_uri": "https://localhost:8080/",
          "height": 269
        },
        "id": "v2v6lD9jyJBl",
        "outputId": "f465428e-99c5-4277-92f6-937de6d7379a"
      },
      "outputs": [],
      "source": [
        "questions = pd.DataFrame(col_names_to_replace.copy(), index=col_names).T\n",
        "questions.iloc[0,0] = 'Questions'\n",
        "questions.iloc[:,1:5] = np.nan\n",
        "questions"
      ]
    },
    {
      "cell_type": "code",
      "execution_count": null,
      "metadata": {
        "colab": {
          "base_uri": "https://localhost:8080/",
          "height": 286
        },
        "id": "X94QXceF1Jq4",
        "outputId": "23d0021f-980f-4a50-ac65-aff791b9e051"
      },
      "outputs": [],
      "source": [
        "answer_row.iloc[0,0] = 'Answers'\n",
        "answer_row"
      ]
    },
    {
      "cell_type": "code",
      "execution_count": null,
      "metadata": {
        "id": "kcRZkAlzujM2"
      },
      "outputs": [],
      "source": [
        "# concat all dataframes and save as excel file\n",
        "n_files = 0\n",
        "\n",
        "for i, row in names.iterrows():\n",
        "  fname = row.FirstName\n",
        "  lname = row.LastName\n",
        "\n",
        "  cols = final_results.columns[final_results[final_results.firstname == fname].notna().any()]\n",
        "  report = pd.concat([questions, answer_row, final_results[final_results.firstname == fname]], axis=0).reset_index(drop=True)[cols]\n",
        "  report.fillna('-', inplace=True)\n",
        "  report.drop(columns=['email', 'firstname', 'lastname'], inplace=True)\n",
        "  report.rename(columns={'timestamp': 'Index'}, inplace=True)\n",
        "  report.set_index('Index', inplace=True)\n",
        "\n",
        "  file_path = os.path.join(out_path, f'{fname}_{lname}_{program}_report.xlsx')\n",
        "  report.to_excel(file_path, f'{fname}_{lname}')\n",
        "  \n",
        "  if os.path.exists(file_path):\n",
        "    print(f'{fname} {lname}: Report created')\n",
        "    n_files += 1\n",
        "  else:\n",
        "    raise Exception(f'Failed to create report for: {fname} {lname}')\n",
        "print('---------')\n",
        "print(f'{n_files} reports created for: {program}')"
      ]
    },
    {
      "cell_type": "markdown",
      "metadata": {},
      "source": [
        "### Save Answer Key"
      ]
    },
    {
      "cell_type": "code",
      "execution_count": null,
      "metadata": {},
      "outputs": [],
      "source": [
        "answer_df = answer_row.iloc[:,5:]\n",
        "questions_list = col_names_to_replace[5:]\n",
        "answer_df.columns = questions_list"
      ]
    },
    {
      "cell_type": "code",
      "execution_count": null,
      "metadata": {},
      "outputs": [],
      "source": [
        "answer_path = os.path.join(out_path, f'0_{program}_answers.xlsx')\n",
        "answer_df.to_excel(answer_path, f'{program}', index=False)\n",
        "\n",
        "if os.path.exists(answer_path):\n",
        "    print(f'{program}: Answer key saved')\n",
        "else:\n",
        "    raise Exception(f'Failed to save answer key for: {program}')"
      ]
    }
  ],
  "metadata": {
    "colab": {
      "collapsed_sections": [
        "wosBFFwkGR-6",
        "AA7XltctFh19"
      ],
      "provenance": []
    },
    "kernelspec": {
      "display_name": "Python 3",
      "name": "python3"
    },
    "language_info": {
      "codemirror_mode": {
        "name": "ipython",
        "version": 3
      },
      "file_extension": ".py",
      "mimetype": "text/x-python",
      "name": "python",
      "nbconvert_exporter": "python",
      "pygments_lexer": "ipython3",
      "version": "3.12.0"
    }
  },
  "nbformat": 4,
  "nbformat_minor": 0
}
