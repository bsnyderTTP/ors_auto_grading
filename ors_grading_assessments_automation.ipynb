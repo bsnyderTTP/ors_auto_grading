{
  "cells": [
    {
      "cell_type": "markdown",
      "metadata": {
        "id": "z9G9WkkelNOR"
      },
      "source": [
        "# ORS Assessment Test Automatic Grader\n",
        "Automate grading assessment tests and output a report in excel format\n",
        "\n",
        "**Requirments**\n",
        "1. Get the correct answers of the assessment\n",
        "1. Filter by student (also filter by datetime for current cohort)\n",
        "1. Find the pre-class assessment\n",
        "1. Find the post-class assessment\n",
        "1. Find reattempts of tests\n",
        "1. Show only answers of the questions students get wrong\n",
        "1. Transpose from wide data to long data\n",
        "  1. Column: Attempts (labels: pre-class test, post-class test, reattempts)\n",
        "  1. Row: Scores, Questions 1 - 20\n",
        "1. Save into `.xlsx` file\n",
        "\n",
        "**Tasks**\n",
        "- Provide dataset of the students (`.csv` or google sheets api)\n",
        "- Provide student names"
      ]
    },
    {
      "cell_type": "markdown",
      "metadata": {
        "id": "aGcIBhPHxZGD"
      },
      "source": [
        "## Install Required Libraries & Import"
      ]
    },
    {
      "cell_type": "code",
      "execution_count": 252,
      "metadata": {
        "id": "dHFgcwlrpCpY"
      },
      "outputs": [],
      "source": [
        "import pandas as pd\n",
        "import numpy as np\n",
        "import os"
      ]
    },
    {
      "cell_type": "markdown",
      "metadata": {
        "id": "yKCXKn-lxs_I"
      },
      "source": [
        "## Create Folders & Upload Files\n",
        "- Assessment test responses `.csv` file from this [link](https://drive.google.com/drive/folders/142C-KrYeCN2GnEUiyou6cvDYIOyOWKkt?usp=drive_link)\n",
        "\n",
        "- Student information from this [link](https://nyplorg-my.sharepoint.com/:x:/g/personal/kangchen_nypl_org/EVcsHhpkqM9Fteg3pnvZBZoBRawkm43iJZF-3YE5hgRyCA?email=kangchen%40nypl.org&e=l5Vz5w)"
      ]
    },
    {
      "cell_type": "code",
      "execution_count": 253,
      "metadata": {},
      "outputs": [],
      "source": [
        "cwd = os.getcwd()\n",
        "data_dir = 'data'\n",
        "if not os.path.exists(data_dir):\n",
        "    path = os.path.join(cwd, data_dir)\n",
        "    os.mkdir(os.path.join(cwd, data_dir))\n",
        "    print('Folder created at: {}'.format(path))"
      ]
    },
    {
      "cell_type": "markdown",
      "metadata": {
        "id": "hoMC3cJkLFqK"
      },
      "source": [
        "## Set Variables"
      ]
    },
    {
      "cell_type": "code",
      "execution_count": 254,
      "metadata": {
        "id": "0ln4S17ULJTh"
      },
      "outputs": [
        {
          "name": "stdout",
          "output_type": "stream",
          "text": [
            "[Timestamp('2023-09-13 00:00:00'), Timestamp('2023-09-16 00:00:00'), Timestamp('2023-10-14 00:00:00'), Timestamp('2023-10-28 00:00:00'), Timestamp('2023-11-04 00:00:00'), Timestamp('2023-11-18 00:00:00'), Timestamp('2023-11-25 00:00:00'), Timestamp('2023-12-02 00:00:00')]\n"
          ]
        }
      ],
      "source": [
        "# set assessment dates\n",
        "test_dates =['2023-09-13', '2023-09-16', '2023-10-14', '2023-10-28', '2023-11-04','2023-11-18', '2023-11-25', '2023-12-02']\n",
        "test_dates = [pd.to_datetime(date) for date in test_dates]\n",
        "print(test_dates)"
      ]
    },
    {
      "cell_type": "code",
      "execution_count": 255,
      "metadata": {},
      "outputs": [
        {
          "name": "stdout",
          "output_type": "stream",
          "text": [
            "/Users/kangchen/Documents/Projects/ors_auto_grading/data/ors_powerpoint_assessment_responses.csv\n"
          ]
        }
      ],
      "source": [
        "# set what software the assessment is for\n",
        "program = 'powerpoint'\n",
        "student_csv = os.path.join(path, 'ors_stu_info.csv')\n",
        "test_responses = os.path.join(path, f'ors_{program}_assessment_responses.csv')\n",
        "print(test_responses)"
      ]
    },
    {
      "cell_type": "markdown",
      "metadata": {
        "id": "mlL2lXadyHIM"
      },
      "source": [
        "## Process Names"
      ]
    },
    {
      "cell_type": "code",
      "execution_count": 256,
      "metadata": {
        "colab": {
          "base_uri": "https://localhost:8080/",
          "height": 763
        },
        "id": "33B-B4EJlBUc",
        "outputId": "9e75e390-aba1-4504-cc50-96e7132530e8"
      },
      "outputs": [
        {
          "data": {
            "text/html": [
              "<div>\n",
              "<style scoped>\n",
              "    .dataframe tbody tr th:only-of-type {\n",
              "        vertical-align: middle;\n",
              "    }\n",
              "\n",
              "    .dataframe tbody tr th {\n",
              "        vertical-align: top;\n",
              "    }\n",
              "\n",
              "    .dataframe thead th {\n",
              "        text-align: right;\n",
              "    }\n",
              "</style>\n",
              "<table border=\"1\" class=\"dataframe\">\n",
              "  <thead>\n",
              "    <tr style=\"text-align: right;\">\n",
              "      <th></th>\n",
              "      <th>FirstName</th>\n",
              "      <th>LastName</th>\n",
              "      <th>Drop</th>\n",
              "      <th>Email</th>\n",
              "      <th>OneDrive</th>\n",
              "      <th>MosCertInterest</th>\n",
              "      <th>WordTest</th>\n",
              "      <th>ExcelTest</th>\n",
              "      <th>PPTTest</th>\n",
              "    </tr>\n",
              "  </thead>\n",
              "  <tbody>\n",
              "    <tr>\n",
              "      <th>0</th>\n",
              "      <td>Alana</td>\n",
              "      <td>Chuong</td>\n",
              "      <td>NaN</td>\n",
              "      <td>alanachuong@gmail.com</td>\n",
              "      <td>alanachuong.works@gmail.com</td>\n",
              "      <td>True</td>\n",
              "      <td>75.0</td>\n",
              "      <td>84.0</td>\n",
              "      <td>NaN</td>\n",
              "    </tr>\n",
              "    <tr>\n",
              "      <th>1</th>\n",
              "      <td>Alison</td>\n",
              "      <td>Wong</td>\n",
              "      <td>NaN</td>\n",
              "      <td>awtextmessages@gmail.com</td>\n",
              "      <td>awtextmessages@gmail.com</td>\n",
              "      <td>True</td>\n",
              "      <td>95.0</td>\n",
              "      <td>88.0</td>\n",
              "      <td>NaN</td>\n",
              "    </tr>\n",
              "    <tr>\n",
              "      <th>2</th>\n",
              "      <td>Alona Brequillo</td>\n",
              "      <td>Alona Brequillo</td>\n",
              "      <td>NaN</td>\n",
              "      <td>brequillo.alona@gmail.com</td>\n",
              "      <td>brequillo.alona@gmail.com</td>\n",
              "      <td>True</td>\n",
              "      <td>85.0</td>\n",
              "      <td>80.0</td>\n",
              "      <td>NaN</td>\n",
              "    </tr>\n",
              "    <tr>\n",
              "      <th>3</th>\n",
              "      <td>Beverly</td>\n",
              "      <td>Sealey</td>\n",
              "      <td>NaN</td>\n",
              "      <td>bevlun7@gmail.com</td>\n",
              "      <td>bevlun36@hotmail.com</td>\n",
              "      <td>True</td>\n",
              "      <td>80.0</td>\n",
              "      <td>92.0</td>\n",
              "      <td>NaN</td>\n",
              "    </tr>\n",
              "    <tr>\n",
              "      <th>4</th>\n",
              "      <td>Cherie</td>\n",
              "      <td>Pepper</td>\n",
              "      <td>NaN</td>\n",
              "      <td>pepper_cherie@yahoo.com</td>\n",
              "      <td>cherie.pepper@yahoo.com</td>\n",
              "      <td>True</td>\n",
              "      <td>80.0</td>\n",
              "      <td>NaN</td>\n",
              "      <td>NaN</td>\n",
              "    </tr>\n",
              "    <tr>\n",
              "      <th>5</th>\n",
              "      <td>Eleanor</td>\n",
              "      <td>Sasso</td>\n",
              "      <td>NaN</td>\n",
              "      <td>candidateinformation@me.com</td>\n",
              "      <td>infoc7012@gmail.com</td>\n",
              "      <td>True</td>\n",
              "      <td>80.0</td>\n",
              "      <td>84.0</td>\n",
              "      <td>NaN</td>\n",
              "    </tr>\n",
              "    <tr>\n",
              "      <th>6</th>\n",
              "      <td>Elsa</td>\n",
              "      <td>Wilson</td>\n",
              "      <td>NaN</td>\n",
              "      <td>elsa.wilson220@gmail.com</td>\n",
              "      <td>elsa.wilson220@gmail.com</td>\n",
              "      <td>True</td>\n",
              "      <td>65.0</td>\n",
              "      <td>48.0</td>\n",
              "      <td>NaN</td>\n",
              "    </tr>\n",
              "    <tr>\n",
              "      <th>7</th>\n",
              "      <td>FELICIA</td>\n",
              "      <td>POOLER</td>\n",
              "      <td>NaN</td>\n",
              "      <td>financialpeace312@gmail.com</td>\n",
              "      <td>poolerfelicia1@outlook.com</td>\n",
              "      <td>True</td>\n",
              "      <td>85.0</td>\n",
              "      <td>84.0</td>\n",
              "      <td>NaN</td>\n",
              "    </tr>\n",
              "    <tr>\n",
              "      <th>8</th>\n",
              "      <td>Fran</td>\n",
              "      <td>Brown</td>\n",
              "      <td>True</td>\n",
              "      <td>franaltabrown@gmail.com</td>\n",
              "      <td>franaltamirbrown@outlook.com</td>\n",
              "      <td>True</td>\n",
              "      <td>80.0</td>\n",
              "      <td>NaN</td>\n",
              "      <td>NaN</td>\n",
              "    </tr>\n",
              "    <tr>\n",
              "      <th>9</th>\n",
              "      <td>John</td>\n",
              "      <td>Niland</td>\n",
              "      <td>NaN</td>\n",
              "      <td>johnnyspotone@gmail.com</td>\n",
              "      <td>JohnNiland100@outlook.com</td>\n",
              "      <td>True</td>\n",
              "      <td>100.0</td>\n",
              "      <td>96.0</td>\n",
              "      <td>NaN</td>\n",
              "    </tr>\n",
              "    <tr>\n",
              "      <th>10</th>\n",
              "      <td>Julia</td>\n",
              "      <td>Hernandez-Mejia</td>\n",
              "      <td>NaN</td>\n",
              "      <td>jahm1123@gmail.com</td>\n",
              "      <td>jahm1123@gmail.com</td>\n",
              "      <td>NaN</td>\n",
              "      <td>60.0</td>\n",
              "      <td>48.0</td>\n",
              "      <td>NaN</td>\n",
              "    </tr>\n",
              "    <tr>\n",
              "      <th>11</th>\n",
              "      <td>Monique</td>\n",
              "      <td>Velluti</td>\n",
              "      <td>True</td>\n",
              "      <td>monique.rosales2019@gmail.com</td>\n",
              "      <td>Monique.Rosales2019@outlook.com</td>\n",
              "      <td>NaN</td>\n",
              "      <td>NaN</td>\n",
              "      <td>NaN</td>\n",
              "      <td>NaN</td>\n",
              "    </tr>\n",
              "    <tr>\n",
              "      <th>12</th>\n",
              "      <td>Mayra</td>\n",
              "      <td>Lindemann</td>\n",
              "      <td>NaN</td>\n",
              "      <td>mayralindemann@yahoo.com</td>\n",
              "      <td>mayralindemann@yahoo.com</td>\n",
              "      <td>True</td>\n",
              "      <td>85.0</td>\n",
              "      <td>88.0</td>\n",
              "      <td>NaN</td>\n",
              "    </tr>\n",
              "    <tr>\n",
              "      <th>13</th>\n",
              "      <td>Myrna</td>\n",
              "      <td>Gabriel</td>\n",
              "      <td>NaN</td>\n",
              "      <td>fhljazzy@gmail.com</td>\n",
              "      <td>fhljazzy@gmail.com</td>\n",
              "      <td>True</td>\n",
              "      <td>65.0</td>\n",
              "      <td>92.0</td>\n",
              "      <td>NaN</td>\n",
              "    </tr>\n",
              "    <tr>\n",
              "      <th>14</th>\n",
              "      <td>Orlando</td>\n",
              "      <td>Roman</td>\n",
              "      <td>NaN</td>\n",
              "      <td>tooroman@gmail.com</td>\n",
              "      <td>orlandor@eoc.suny.edu</td>\n",
              "      <td>NaN</td>\n",
              "      <td>75.0</td>\n",
              "      <td>92.0</td>\n",
              "      <td>NaN</td>\n",
              "    </tr>\n",
              "    <tr>\n",
              "      <th>15</th>\n",
              "      <td>ROBERT</td>\n",
              "      <td>VARGAS</td>\n",
              "      <td>NaN</td>\n",
              "      <td>rvargas111@msn.com</td>\n",
              "      <td>rvargas111@msn.com</td>\n",
              "      <td>True</td>\n",
              "      <td>80.0</td>\n",
              "      <td>100.0</td>\n",
              "      <td>NaN</td>\n",
              "    </tr>\n",
              "    <tr>\n",
              "      <th>16</th>\n",
              "      <td>Roselynne</td>\n",
              "      <td>Mizner</td>\n",
              "      <td>NaN</td>\n",
              "      <td>romixyz@gmail.com</td>\n",
              "      <td>romixyz@gmail.com</td>\n",
              "      <td>NaN</td>\n",
              "      <td>100.0</td>\n",
              "      <td>80.0</td>\n",
              "      <td>NaN</td>\n",
              "    </tr>\n",
              "    <tr>\n",
              "      <th>17</th>\n",
              "      <td>Shirley</td>\n",
              "      <td>Pendleton</td>\n",
              "      <td>True</td>\n",
              "      <td>shrlypnd@gmail.com</td>\n",
              "      <td>reecee504@hotmail.com</td>\n",
              "      <td>NaN</td>\n",
              "      <td>NaN</td>\n",
              "      <td>NaN</td>\n",
              "      <td>NaN</td>\n",
              "    </tr>\n",
              "    <tr>\n",
              "      <th>18</th>\n",
              "      <td>Sitara</td>\n",
              "      <td>Shamim</td>\n",
              "      <td>NaN</td>\n",
              "      <td>sitarababra@gmail.com</td>\n",
              "      <td>sitara.shamim@outlook.com</td>\n",
              "      <td>NaN</td>\n",
              "      <td>100.0</td>\n",
              "      <td>88.0</td>\n",
              "      <td>NaN</td>\n",
              "    </tr>\n",
              "    <tr>\n",
              "      <th>19</th>\n",
              "      <td>Letitia</td>\n",
              "      <td>Jefferson</td>\n",
              "      <td>True</td>\n",
              "      <td>jeffersonletitiae@gmail.com</td>\n",
              "      <td>jeffersonletitiae@gmail.com</td>\n",
              "      <td>True</td>\n",
              "      <td>NaN</td>\n",
              "      <td>NaN</td>\n",
              "      <td>NaN</td>\n",
              "    </tr>\n",
              "    <tr>\n",
              "      <th>20</th>\n",
              "      <td>Terre</td>\n",
              "      <td>Grilli</td>\n",
              "      <td>True</td>\n",
              "      <td>terregrilli@gmail.com</td>\n",
              "      <td>terregr@outlook.com</td>\n",
              "      <td>NaN</td>\n",
              "      <td>NaN</td>\n",
              "      <td>NaN</td>\n",
              "      <td>NaN</td>\n",
              "    </tr>\n",
              "  </tbody>\n",
              "</table>\n",
              "</div>"
            ],
            "text/plain": [
              "          FirstName         LastName  Drop                          Email  \\\n",
              "0             Alana           Chuong   NaN          alanachuong@gmail.com   \n",
              "1            Alison             Wong   NaN       awtextmessages@gmail.com   \n",
              "2   Alona Brequillo  Alona Brequillo   NaN      brequillo.alona@gmail.com   \n",
              "3           Beverly           Sealey   NaN              bevlun7@gmail.com   \n",
              "4            Cherie           Pepper   NaN        pepper_cherie@yahoo.com   \n",
              "5           Eleanor            Sasso   NaN    candidateinformation@me.com   \n",
              "6              Elsa           Wilson   NaN       elsa.wilson220@gmail.com   \n",
              "7           FELICIA           POOLER   NaN    financialpeace312@gmail.com   \n",
              "8              Fran            Brown  True        franaltabrown@gmail.com   \n",
              "9              John           Niland   NaN        johnnyspotone@gmail.com   \n",
              "10            Julia  Hernandez-Mejia   NaN             jahm1123@gmail.com   \n",
              "11          Monique          Velluti  True  monique.rosales2019@gmail.com   \n",
              "12            Mayra        Lindemann   NaN       mayralindemann@yahoo.com   \n",
              "13            Myrna          Gabriel   NaN             fhljazzy@gmail.com   \n",
              "14          Orlando            Roman   NaN             tooroman@gmail.com   \n",
              "15           ROBERT           VARGAS   NaN             rvargas111@msn.com   \n",
              "16        Roselynne           Mizner   NaN              romixyz@gmail.com   \n",
              "17          Shirley        Pendleton  True             shrlypnd@gmail.com   \n",
              "18           Sitara           Shamim   NaN          sitarababra@gmail.com   \n",
              "19          Letitia        Jefferson  True    jeffersonletitiae@gmail.com   \n",
              "20            Terre           Grilli  True          terregrilli@gmail.com   \n",
              "\n",
              "                           OneDrive MosCertInterest  WordTest  ExcelTest  \\\n",
              "0       alanachuong.works@gmail.com            True      75.0       84.0   \n",
              "1          awtextmessages@gmail.com            True      95.0       88.0   \n",
              "2         brequillo.alona@gmail.com            True      85.0       80.0   \n",
              "3              bevlun36@hotmail.com            True      80.0       92.0   \n",
              "4           cherie.pepper@yahoo.com            True      80.0        NaN   \n",
              "5               infoc7012@gmail.com            True      80.0       84.0   \n",
              "6          elsa.wilson220@gmail.com            True      65.0       48.0   \n",
              "7        poolerfelicia1@outlook.com            True      85.0       84.0   \n",
              "8      franaltamirbrown@outlook.com            True      80.0        NaN   \n",
              "9         JohnNiland100@outlook.com            True     100.0       96.0   \n",
              "10               jahm1123@gmail.com             NaN      60.0       48.0   \n",
              "11  Monique.Rosales2019@outlook.com             NaN       NaN        NaN   \n",
              "12         mayralindemann@yahoo.com            True      85.0       88.0   \n",
              "13               fhljazzy@gmail.com            True      65.0       92.0   \n",
              "14            orlandor@eoc.suny.edu             NaN      75.0       92.0   \n",
              "15               rvargas111@msn.com            True      80.0      100.0   \n",
              "16                romixyz@gmail.com             NaN     100.0       80.0   \n",
              "17            reecee504@hotmail.com             NaN       NaN        NaN   \n",
              "18        sitara.shamim@outlook.com             NaN     100.0       88.0   \n",
              "19      jeffersonletitiae@gmail.com            True       NaN        NaN   \n",
              "20              terregr@outlook.com             NaN       NaN        NaN   \n",
              "\n",
              "    PPTTest  \n",
              "0       NaN  \n",
              "1       NaN  \n",
              "2       NaN  \n",
              "3       NaN  \n",
              "4       NaN  \n",
              "5       NaN  \n",
              "6       NaN  \n",
              "7       NaN  \n",
              "8       NaN  \n",
              "9       NaN  \n",
              "10      NaN  \n",
              "11      NaN  \n",
              "12      NaN  \n",
              "13      NaN  \n",
              "14      NaN  \n",
              "15      NaN  \n",
              "16      NaN  \n",
              "17      NaN  \n",
              "18      NaN  \n",
              "19      NaN  \n",
              "20      NaN  "
            ]
          },
          "execution_count": 256,
          "metadata": {},
          "output_type": "execute_result"
        }
      ],
      "source": [
        "# set variables\n",
        "df = pd.read_csv(student_csv)\n",
        "df"
      ]
    },
    {
      "cell_type": "markdown",
      "metadata": {
        "id": "IAdqTCDy_2y8"
      },
      "source": [
        "### Preprocess names"
      ]
    },
    {
      "cell_type": "code",
      "execution_count": 257,
      "metadata": {
        "id": "of29XR-myVAJ"
      },
      "outputs": [],
      "source": [
        "# drop unactive students\n",
        "df = df.loc[df.Drop != True]"
      ]
    },
    {
      "cell_type": "code",
      "execution_count": 258,
      "metadata": {
        "id": "1COyr2eLC-fK"
      },
      "outputs": [],
      "source": [
        "student_info = df[['FirstName', 'LastName', 'Email']]"
      ]
    },
    {
      "cell_type": "code",
      "execution_count": 259,
      "metadata": {
        "id": "JA7NLXbgytT8"
      },
      "outputs": [],
      "source": [
        "names = df[['FirstName', 'LastName']]"
      ]
    },
    {
      "cell_type": "code",
      "execution_count": 260,
      "metadata": {
        "colab": {
          "base_uri": "https://localhost:8080/"
        },
        "id": "SIKfqCGwzuM9",
        "outputId": "db29aeb6-ff20-4b32-82b8-9ce3b44145a7"
      },
      "outputs": [
        {
          "name": "stderr",
          "output_type": "stream",
          "text": [
            "/var/folders/ms/xhs4ws9j0px0b4g7j1tw58_c0000gp/T/ipykernel_45217/3352764092.py:1: SettingWithCopyWarning: \n",
            "A value is trying to be set on a copy of a slice from a DataFrame\n",
            "\n",
            "See the caveats in the documentation: https://pandas.pydata.org/pandas-docs/stable/user_guide/indexing.html#returning-a-view-versus-a-copy\n",
            "  names.loc[names.FirstName == 'Eleanor', ['FirstName']] = 'E'\n"
          ]
        }
      ],
      "source": [
        "names.loc[names.FirstName == 'Eleanor', ['FirstName']] = 'E'"
      ]
    },
    {
      "cell_type": "code",
      "execution_count": 261,
      "metadata": {
        "colab": {
          "base_uri": "https://localhost:8080/"
        },
        "id": "dHuJ6_A7_S-g",
        "outputId": "79517b4a-7b98-4d91-848d-2936055a63fd"
      },
      "outputs": [
        {
          "name": "stderr",
          "output_type": "stream",
          "text": [
            "/var/folders/ms/xhs4ws9j0px0b4g7j1tw58_c0000gp/T/ipykernel_45217/3524485991.py:2: FutureWarning: Series.__getitem__ treating keys as positions is deprecated. In a future version, integer keys will always be treated as labels (consistent with DataFrame behavior). To access a value by position, use `ser.iloc[pos]`\n",
            "  names.iloc[2,0] =names.iloc[2][0].split(' ')[0]\n",
            "/var/folders/ms/xhs4ws9j0px0b4g7j1tw58_c0000gp/T/ipykernel_45217/3524485991.py:2: SettingWithCopyWarning: \n",
            "A value is trying to be set on a copy of a slice from a DataFrame\n",
            "\n",
            "See the caveats in the documentation: https://pandas.pydata.org/pandas-docs/stable/user_guide/indexing.html#returning-a-view-versus-a-copy\n",
            "  names.iloc[2,0] =names.iloc[2][0].split(' ')[0]\n",
            "/var/folders/ms/xhs4ws9j0px0b4g7j1tw58_c0000gp/T/ipykernel_45217/3524485991.py:3: FutureWarning: Series.__getitem__ treating keys as positions is deprecated. In a future version, integer keys will always be treated as labels (consistent with DataFrame behavior). To access a value by position, use `ser.iloc[pos]`\n",
            "  names.iloc[2,1] =names.iloc[2][1].split(' ')[1]\n",
            "/var/folders/ms/xhs4ws9j0px0b4g7j1tw58_c0000gp/T/ipykernel_45217/3524485991.py:3: SettingWithCopyWarning: \n",
            "A value is trying to be set on a copy of a slice from a DataFrame\n",
            "\n",
            "See the caveats in the documentation: https://pandas.pydata.org/pandas-docs/stable/user_guide/indexing.html#returning-a-view-versus-a-copy\n",
            "  names.iloc[2,1] =names.iloc[2][1].split(' ')[1]\n"
          ]
        }
      ],
      "source": [
        "# fix error values firstname = lastname\n",
        "names.iloc[2,0] =names.iloc[2][0].split(' ')[0]\n",
        "names.iloc[2,1] =names.iloc[2][1].split(' ')[1]"
      ]
    },
    {
      "cell_type": "code",
      "execution_count": 262,
      "metadata": {
        "colab": {
          "base_uri": "https://localhost:8080/"
        },
        "id": "YmCMvDXg_-A_",
        "outputId": "669e6ace-b464-425f-f00a-a9d32ec1ec2d"
      },
      "outputs": [
        {
          "name": "stderr",
          "output_type": "stream",
          "text": [
            "/var/folders/ms/xhs4ws9j0px0b4g7j1tw58_c0000gp/T/ipykernel_45217/4173222479.py:1: SettingWithCopyWarning: \n",
            "A value is trying to be set on a copy of a slice from a DataFrame.\n",
            "Try using .loc[row_indexer,col_indexer] = value instead\n",
            "\n",
            "See the caveats in the documentation: https://pandas.pydata.org/pandas-docs/stable/user_guide/indexing.html#returning-a-view-versus-a-copy\n",
            "  names.FirstName = names.FirstName.str.lower().str.strip()\n",
            "/var/folders/ms/xhs4ws9j0px0b4g7j1tw58_c0000gp/T/ipykernel_45217/4173222479.py:2: SettingWithCopyWarning: \n",
            "A value is trying to be set on a copy of a slice from a DataFrame.\n",
            "Try using .loc[row_indexer,col_indexer] = value instead\n",
            "\n",
            "See the caveats in the documentation: https://pandas.pydata.org/pandas-docs/stable/user_guide/indexing.html#returning-a-view-versus-a-copy\n",
            "  names.LastName = names.LastName.str.lower().str.replace(' ', '')\n"
          ]
        }
      ],
      "source": [
        "names.FirstName = names.FirstName.str.lower().str.strip()\n",
        "names.LastName = names.LastName.str.lower().str.replace(' ', '')"
      ]
    },
    {
      "cell_type": "code",
      "execution_count": 263,
      "metadata": {
        "id": "eW98dicPG4Yr"
      },
      "outputs": [],
      "source": [
        "fullnames = pd.DataFrame(names.FirstName + ' ' + names.LastName, columns=['fullname'])"
      ]
    },
    {
      "cell_type": "code",
      "execution_count": 264,
      "metadata": {
        "id": "fYOs5JfO0JAZ"
      },
      "outputs": [],
      "source": [
        "fullnames.sort_values(by='fullname', inplace=True)"
      ]
    },
    {
      "cell_type": "markdown",
      "metadata": {
        "id": "E1_4QCrfAQgX"
      },
      "source": [
        "## Process Responses"
      ]
    },
    {
      "cell_type": "code",
      "execution_count": 265,
      "metadata": {
        "colab": {
          "base_uri": "https://localhost:8080/"
        },
        "id": "PetkABQO0Pw4",
        "outputId": "12a23e18-ecf2-42b9-9e3b-3542f6f3ef77"
      },
      "outputs": [
        {
          "name": "stdout",
          "output_type": "stream",
          "text": [
            "<class 'pandas.core.frame.DataFrame'>\n",
            "RangeIndex: 748 entries, 0 to 747\n",
            "Data columns (total 25 columns):\n",
            " #   Column                                                                                                                                                               Non-Null Count  Dtype \n",
            "---  ------                                                                                                                                                               --------------  ----- \n",
            " 0   Timestamp                                                                                                                                                            748 non-null    object\n",
            " 1   Email Address                                                                                                                                                        748 non-null    object\n",
            " 2   Score                                                                                                                                                                748 non-null    object\n",
            " 3   First Name                                                                                                                                                           748 non-null    object\n",
            " 4   Last Name                                                                                                                                                            748 non-null    object\n",
            " 5   1. True or False: To apply a theme to all of your slides, you need to select all the slide thumbnails on the Slides tab before you apply the theme.                  748 non-null    bool  \n",
            " 6   2. Which of the following areas can be used on a slide to add text?                                                                                                  748 non-null    object\n",
            " 7   3. Which of the following would you select when you need to change a placeholder that appears on multiple slides?                                                    748 non-null    object\n",
            " 8   4. Select all the ways you can format text in a presentation.                                                                                                        748 non-null    object\n",
            " 9   5. Which graphical element(s) can you add from the Insert Ribbon?                                                                                                    747 non-null    object\n",
            " 10  6. True or False: There is a command to duplicate selected slides in the New Slide command menu. It allows you to duplicate one slide or many slides.                748 non-null    bool  \n",
            " 11  7. To add a second animation to an object you must...                                                                                                                748 non-null    object\n",
            " 12  8. Marisol needs to include an organization chart representing her company in her presentation. What tool would she use to achieve this?                             748 non-null    object\n",
            " 13  9. Which of the following is NOT an animation category?                                                                                                              748 non-null    object\n",
            " 14  10. True or False: To remove a slide from your presentation, right-click on the slide thumbnail and select Delete Slide from the menu or press the delete key.       748 non-null    bool  \n",
            " 15  11. There are four view options that are accessible from the PowerPoint task bar. Select the correct four view options from the list below. (Select All That Apply)  748 non-null    object\n",
            " 16  12. What function can you use to group slides together and/or divide your presentation?                                                                              748 non-null    object\n",
            " 17  13. True or False: Animations and Transitions are motion effects that you can add to your presentation to make your slide show fluid and dynamic.                    748 non-null    bool  \n",
            " 18  14. What two groups allow you to control, customize, and re-order your animation? (Check the two that apply.)                                                        748 non-null    object\n",
            " 19  15. True or False: Themes allow users to add pre-made designs to their slides.                                                                                       748 non-null    bool  \n",
            " 20  16. Which tab should you click on to display the Themes options?                                                                                                     748 non-null    object\n",
            " 21  17. What is meant by slide Transitions?                                                                                                                              748 non-null    object\n",
            " 22  18. What is one of the primary functions of the Slide Sorter View?                                                                                                   746 non-null    object\n",
            " 23  19. True or False: Master View allows you to make overarching changes to the fonts, formatting, layouts, and themes of your slides.                                  748 non-null    bool  \n",
            " 24  20. During a slide show, what happens if you press the ESC key?                                                                                                      748 non-null    object\n",
            "dtypes: bool(6), object(19)\n",
            "memory usage: 115.5+ KB\n"
          ]
        }
      ],
      "source": [
        "test_df = pd.read_csv(test_responses)\n",
        "test_df.info()"
      ]
    },
    {
      "cell_type": "code",
      "execution_count": 266,
      "metadata": {
        "id": "rC3qxKy3Lgko"
      },
      "outputs": [],
      "source": [
        "# rename columns\n",
        "col_names_to_replace = list(test_df.columns)\n",
        "col_names = ['timestamp', 'email', 'score', 'firstname', 'lastname']\n",
        "\n",
        "for i in range(1,len(col_names_to_replace)-4):\n",
        "  col_names.append(f'Q{i}')\n",
        "\n",
        "col_mapper = dict.fromkeys(col_names_to_replace)\n",
        "for i, col in enumerate(col_names_to_replace):\n",
        "  col_mapper[col] = col_names[i]\n",
        "\n",
        "test_df.rename(columns=col_mapper, inplace=True)"
      ]
    },
    {
      "cell_type": "markdown",
      "metadata": {
        "id": "25MnhPa8-QI9"
      },
      "source": [
        "### Preprocess first and last name"
      ]
    },
    {
      "cell_type": "code",
      "execution_count": 267,
      "metadata": {
        "colab": {
          "base_uri": "https://localhost:8080/",
          "height": 933
        },
        "id": "xPETQN3b-WFM",
        "outputId": "32e8a308-6a53-4fd0-9871-b710174e973c"
      },
      "outputs": [
        {
          "data": {
            "text/html": [
              "<div>\n",
              "<style scoped>\n",
              "    .dataframe tbody tr th:only-of-type {\n",
              "        vertical-align: middle;\n",
              "    }\n",
              "\n",
              "    .dataframe tbody tr th {\n",
              "        vertical-align: top;\n",
              "    }\n",
              "\n",
              "    .dataframe thead th {\n",
              "        text-align: right;\n",
              "    }\n",
              "</style>\n",
              "<table border=\"1\" class=\"dataframe\">\n",
              "  <thead>\n",
              "    <tr style=\"text-align: right;\">\n",
              "      <th></th>\n",
              "      <th>timestamp</th>\n",
              "      <th>email</th>\n",
              "      <th>score</th>\n",
              "      <th>firstname</th>\n",
              "      <th>lastname</th>\n",
              "      <th>Q1</th>\n",
              "      <th>Q2</th>\n",
              "      <th>Q3</th>\n",
              "      <th>Q4</th>\n",
              "      <th>Q5</th>\n",
              "      <th>...</th>\n",
              "      <th>Q11</th>\n",
              "      <th>Q12</th>\n",
              "      <th>Q13</th>\n",
              "      <th>Q14</th>\n",
              "      <th>Q15</th>\n",
              "      <th>Q16</th>\n",
              "      <th>Q17</th>\n",
              "      <th>Q18</th>\n",
              "      <th>Q19</th>\n",
              "      <th>Q20</th>\n",
              "    </tr>\n",
              "  </thead>\n",
              "  <tbody>\n",
              "    <tr>\n",
              "      <th>0</th>\n",
              "      <td>9/14/2020 17:18:20</td>\n",
              "      <td>ooaakn@gmail.com</td>\n",
              "      <td>65 / 100</td>\n",
              "      <td>natanya</td>\n",
              "      <td>oakley</td>\n",
              "      <td>False</td>\n",
              "      <td>All of the above</td>\n",
              "      <td>Slide Master View</td>\n",
              "      <td>All of the above.</td>\n",
              "      <td>Text Box Tool</td>\n",
              "      <td>...</td>\n",
              "      <td>Slide Sorter View, PowerPoint View, Reading Vi...</td>\n",
              "      <td>Section</td>\n",
              "      <td>True</td>\n",
              "      <td>Advanced Animation</td>\n",
              "      <td>True</td>\n",
              "      <td>Design Tab</td>\n",
              "      <td>None of the above.</td>\n",
              "      <td>It is used for reorganizing slides in a presen...</td>\n",
              "      <td>True</td>\n",
              "      <td>Ends the slide show.</td>\n",
              "    </tr>\n",
              "    <tr>\n",
              "      <th>1</th>\n",
              "      <td>9/14/2020 17:19:08</td>\n",
              "      <td>grosso.sharon28@gmail.com</td>\n",
              "      <td>60 / 100</td>\n",
              "      <td>sharon</td>\n",
              "      <td>grosso</td>\n",
              "      <td>False</td>\n",
              "      <td>Text Box</td>\n",
              "      <td>Slide Sorter view</td>\n",
              "      <td>All of the above.</td>\n",
              "      <td>Text Box Tool</td>\n",
              "      <td>...</td>\n",
              "      <td>Normal View, Slide Sorter View, PowerPoint Vie...</td>\n",
              "      <td>Alignment</td>\n",
              "      <td>True</td>\n",
              "      <td>Animation, Advanced Animation</td>\n",
              "      <td>True</td>\n",
              "      <td>View Tab</td>\n",
              "      <td>They are animation-like effects that occur in ...</td>\n",
              "      <td>It is used for viewing all sides in a presenta...</td>\n",
              "      <td>True</td>\n",
              "      <td>Ends the slide show.</td>\n",
              "    </tr>\n",
              "    <tr>\n",
              "      <th>2</th>\n",
              "      <td>9/14/2020 17:19:41</td>\n",
              "      <td>DIMARIMD@AOL.COM</td>\n",
              "      <td>65 / 100</td>\n",
              "      <td>connie</td>\n",
              "      <td>dimari</td>\n",
              "      <td>False</td>\n",
              "      <td>Text Box</td>\n",
              "      <td>Normal view</td>\n",
              "      <td>All of the above.</td>\n",
              "      <td>Text Box Tool</td>\n",
              "      <td>...</td>\n",
              "      <td>Normal View, Slide Sorter View, PowerPoint Vie...</td>\n",
              "      <td>None of the above.</td>\n",
              "      <td>True</td>\n",
              "      <td>Advanced Animation, Preview</td>\n",
              "      <td>True</td>\n",
              "      <td>Design Tab</td>\n",
              "      <td>They are animation-like effects that occur in ...</td>\n",
              "      <td>It is used for reorganizing slides in a presen...</td>\n",
              "      <td>True</td>\n",
              "      <td>Ends the slide show.</td>\n",
              "    </tr>\n",
              "    <tr>\n",
              "      <th>3</th>\n",
              "      <td>9/14/2020 17:21:12</td>\n",
              "      <td>karnoldnyc@gmail.com</td>\n",
              "      <td>55 / 100</td>\n",
              "      <td>katie</td>\n",
              "      <td>arnold</td>\n",
              "      <td>False</td>\n",
              "      <td>Text Box</td>\n",
              "      <td>Slide Master View</td>\n",
              "      <td>Change the font type., Change the font size., ...</td>\n",
              "      <td>Line Tool</td>\n",
              "      <td>...</td>\n",
              "      <td>Normal View, Slide Sorter View, PowerPoint Vie...</td>\n",
              "      <td>All of the above.</td>\n",
              "      <td>True</td>\n",
              "      <td>Animation, Advanced Animation</td>\n",
              "      <td>True</td>\n",
              "      <td>Design Tab</td>\n",
              "      <td>They are animation-like effects that occur in ...</td>\n",
              "      <td>It is used for reorganizing slides in a presen...</td>\n",
              "      <td>True</td>\n",
              "      <td>Ends the slide show.</td>\n",
              "    </tr>\n",
              "    <tr>\n",
              "      <th>4</th>\n",
              "      <td>9/14/2020 17:21:51</td>\n",
              "      <td>fettmartin@gmail.com</td>\n",
              "      <td>40 / 100</td>\n",
              "      <td>martin</td>\n",
              "      <td>fett</td>\n",
              "      <td>True</td>\n",
              "      <td>Text Box</td>\n",
              "      <td>Slide Master View</td>\n",
              "      <td>All of the above.</td>\n",
              "      <td>Text Box Tool</td>\n",
              "      <td>...</td>\n",
              "      <td>Normal View, PowerPoint View, Reading View, Sl...</td>\n",
              "      <td>Alignment</td>\n",
              "      <td>False</td>\n",
              "      <td>Timing, Animation</td>\n",
              "      <td>False</td>\n",
              "      <td>View Tab</td>\n",
              "      <td>None of the above.</td>\n",
              "      <td>It is used for reorganizing slides in a presen...</td>\n",
              "      <td>True</td>\n",
              "      <td>Displays the first slide.</td>\n",
              "    </tr>\n",
              "  </tbody>\n",
              "</table>\n",
              "<p>5 rows × 25 columns</p>\n",
              "</div>"
            ],
            "text/plain": [
              "            timestamp                      email     score firstname lastname  \\\n",
              "0  9/14/2020 17:18:20           ooaakn@gmail.com  65 / 100   natanya   oakley   \n",
              "1  9/14/2020 17:19:08  grosso.sharon28@gmail.com  60 / 100    sharon   grosso   \n",
              "2  9/14/2020 17:19:41           DIMARIMD@AOL.COM  65 / 100    connie   dimari   \n",
              "3  9/14/2020 17:21:12       karnoldnyc@gmail.com  55 / 100     katie   arnold   \n",
              "4  9/14/2020 17:21:51       fettmartin@gmail.com  40 / 100    martin     fett   \n",
              "\n",
              "      Q1                Q2                 Q3  \\\n",
              "0  False  All of the above  Slide Master View   \n",
              "1  False          Text Box  Slide Sorter view   \n",
              "2  False          Text Box        Normal view   \n",
              "3  False          Text Box  Slide Master View   \n",
              "4   True          Text Box  Slide Master View   \n",
              "\n",
              "                                                  Q4             Q5  ...  \\\n",
              "0                                  All of the above.  Text Box Tool  ...   \n",
              "1                                  All of the above.  Text Box Tool  ...   \n",
              "2                                  All of the above.  Text Box Tool  ...   \n",
              "3  Change the font type., Change the font size., ...      Line Tool  ...   \n",
              "4                                  All of the above.  Text Box Tool  ...   \n",
              "\n",
              "                                                 Q11                 Q12  \\\n",
              "0  Slide Sorter View, PowerPoint View, Reading Vi...             Section   \n",
              "1  Normal View, Slide Sorter View, PowerPoint Vie...           Alignment   \n",
              "2  Normal View, Slide Sorter View, PowerPoint Vie...  None of the above.   \n",
              "3  Normal View, Slide Sorter View, PowerPoint Vie...   All of the above.   \n",
              "4  Normal View, PowerPoint View, Reading View, Sl...           Alignment   \n",
              "\n",
              "     Q13                            Q14    Q15         Q16  \\\n",
              "0   True             Advanced Animation   True  Design Tab   \n",
              "1   True  Animation, Advanced Animation   True    View Tab   \n",
              "2   True    Advanced Animation, Preview   True  Design Tab   \n",
              "3   True  Animation, Advanced Animation   True  Design Tab   \n",
              "4  False              Timing, Animation  False    View Tab   \n",
              "\n",
              "                                                 Q17  \\\n",
              "0                                 None of the above.   \n",
              "1  They are animation-like effects that occur in ...   \n",
              "2  They are animation-like effects that occur in ...   \n",
              "3  They are animation-like effects that occur in ...   \n",
              "4                                 None of the above.   \n",
              "\n",
              "                                                 Q18   Q19  \\\n",
              "0  It is used for reorganizing slides in a presen...  True   \n",
              "1  It is used for viewing all sides in a presenta...  True   \n",
              "2  It is used for reorganizing slides in a presen...  True   \n",
              "3  It is used for reorganizing slides in a presen...  True   \n",
              "4  It is used for reorganizing slides in a presen...  True   \n",
              "\n",
              "                         Q20  \n",
              "0       Ends the slide show.  \n",
              "1       Ends the slide show.  \n",
              "2       Ends the slide show.  \n",
              "3       Ends the slide show.  \n",
              "4  Displays the first slide.  \n",
              "\n",
              "[5 rows x 25 columns]"
            ]
          },
          "execution_count": 267,
          "metadata": {},
          "output_type": "execute_result"
        }
      ],
      "source": [
        "test_df.firstname = test_df.firstname.str.strip().str.lower()\n",
        "test_df.lastname = test_df.lastname.str.strip().str.lower()\n",
        "test_df.head(5)"
      ]
    },
    {
      "cell_type": "code",
      "execution_count": 268,
      "metadata": {
        "id": "zFOyg8CwGeFh"
      },
      "outputs": [],
      "source": [
        "# correct error values: elsa divinagracia = elsa\n",
        "test_df.loc[(test_df.lastname == 'wilson') & (test_df.firstname == 'elsa divinagracia'), 'firstname'] = 'elsa'"
      ]
    },
    {
      "cell_type": "markdown",
      "metadata": {
        "id": "wosBFFwkGR-6"
      },
      "source": [
        "### Get Answers"
      ]
    },
    {
      "cell_type": "code",
      "execution_count": 269,
      "metadata": {
        "colab": {
          "base_uri": "https://localhost:8080/"
        },
        "id": "NDcud1iC1suR",
        "outputId": "ffbc51ea-1f06-40e9-e73d-635832465ffa"
      },
      "outputs": [],
      "source": [
        "answer_row = test_df[test_df.score == '100 / 100'].tail(1).reset_index(drop=True)\n",
        "answer_row.iloc[:,:5] = np.nan\n",
        "answer_key = answer_row.iloc[:,5:]\n",
        "answer_dict = answer_key.to_dict(orient='records')[0]"
      ]
    },
    {
      "cell_type": "code",
      "execution_count": 270,
      "metadata": {
        "colab": {
          "base_uri": "https://localhost:8080/"
        },
        "id": "7oMaxaAt8L62",
        "outputId": "72e884ef-3534-43fa-b047-41c103c786d1"
      },
      "outputs": [
        {
          "data": {
            "text/plain": [
              "{'Q1': False,\n",
              " 'Q2': 'Text Box',\n",
              " 'Q3': 'Slide Master view',\n",
              " 'Q4': 'All of the above.',\n",
              " 'Q5': 'All of the above',\n",
              " 'Q6': True,\n",
              " 'Q7': 'Click Add Animation on the Animations tab of the Ribbon.',\n",
              " 'Q8': 'SmartArt Graphics',\n",
              " 'Q9': 'Engage',\n",
              " 'Q10': True,\n",
              " 'Q11': 'Normal View, Slide Sorter View, Reading View, Slide Show View',\n",
              " 'Q12': 'Section',\n",
              " 'Q13': True,\n",
              " 'Q14': 'Timing, Advanced Animation',\n",
              " 'Q15': True,\n",
              " 'Q16': 'Design Tab',\n",
              " 'Q17': 'They are animation-like effects that occur in the Slide Show View when the user moves from one slide to the next.',\n",
              " 'Q18': 'It is used for easily reorganizing slides in a presentation.',\n",
              " 'Q19': True,\n",
              " 'Q20': 'Ends the slide show.'}"
            ]
          },
          "execution_count": 270,
          "metadata": {},
          "output_type": "execute_result"
        }
      ],
      "source": [
        "answer_dict"
      ]
    },
    {
      "cell_type": "markdown",
      "metadata": {
        "id": "r-ymdP-6FPhe"
      },
      "source": [
        "### Get Data Base on Test Date and Student Name"
      ]
    },
    {
      "cell_type": "code",
      "execution_count": 271,
      "metadata": {
        "id": "P3w_BxFfA-KI"
      },
      "outputs": [],
      "source": [
        "# convert timestamp to datetime dtype\n",
        "test_df.timestamp = pd.to_datetime(test_df.timestamp, format='%m/%d/%Y %H:%M:%S', errors='coerce')"
      ]
    },
    {
      "cell_type": "code",
      "execution_count": 272,
      "metadata": {
        "colab": {
          "base_uri": "https://localhost:8080/"
        },
        "id": "rDpwJFfX8vFn",
        "outputId": "3ec7ed1b-ce98-49bf-84da-0e7571e68e41"
      },
      "outputs": [
        {
          "name": "stdout",
          "output_type": "stream",
          "text": [
            "<class 'pandas.core.frame.DataFrame'>\n",
            "RangeIndex: 748 entries, 0 to 747\n",
            "Data columns (total 25 columns):\n",
            " #   Column     Non-Null Count  Dtype         \n",
            "---  ------     --------------  -----         \n",
            " 0   timestamp  748 non-null    datetime64[ns]\n",
            " 1   email      748 non-null    object        \n",
            " 2   score      748 non-null    object        \n",
            " 3   firstname  748 non-null    object        \n",
            " 4   lastname   748 non-null    object        \n",
            " 5   Q1         748 non-null    bool          \n",
            " 6   Q2         748 non-null    object        \n",
            " 7   Q3         748 non-null    object        \n",
            " 8   Q4         748 non-null    object        \n",
            " 9   Q5         747 non-null    object        \n",
            " 10  Q6         748 non-null    bool          \n",
            " 11  Q7         748 non-null    object        \n",
            " 12  Q8         748 non-null    object        \n",
            " 13  Q9         748 non-null    object        \n",
            " 14  Q10        748 non-null    bool          \n",
            " 15  Q11        748 non-null    object        \n",
            " 16  Q12        748 non-null    object        \n",
            " 17  Q13        748 non-null    bool          \n",
            " 18  Q14        748 non-null    object        \n",
            " 19  Q15        748 non-null    bool          \n",
            " 20  Q16        748 non-null    object        \n",
            " 21  Q17        748 non-null    object        \n",
            " 22  Q18        746 non-null    object        \n",
            " 23  Q19        748 non-null    bool          \n",
            " 24  Q20        748 non-null    object        \n",
            "dtypes: bool(6), datetime64[ns](1), object(18)\n",
            "memory usage: 115.5+ KB\n"
          ]
        }
      ],
      "source": [
        "test_df.info()"
      ]
    },
    {
      "cell_type": "code",
      "execution_count": 273,
      "metadata": {
        "id": "q8sCQoGWIoIO"
      },
      "outputs": [],
      "source": [
        "# get all tests from test dates\n",
        "all_word_assessment = test_df[test_df.timestamp.dt.date.isin([d.date() for d in test_dates])]"
      ]
    },
    {
      "cell_type": "code",
      "execution_count": 274,
      "metadata": {
        "colab": {
          "base_uri": "https://localhost:8080/"
        },
        "id": "cfMMNhWiOFLL",
        "outputId": "33366490-f548-4f52-c265-0d3789b690b8"
      },
      "outputs": [
        {
          "data": {
            "text/plain": [
              "firstname\n",
              "alana        2\n",
              "alison       2\n",
              "alona        2\n",
              "beverly      2\n",
              "cherie       3\n",
              "e            2\n",
              "elsa         2\n",
              "felicia      1\n",
              "john         2\n",
              "julia        2\n",
              "mayra        3\n",
              "myrna        2\n",
              "orlando      2\n",
              "robert       2\n",
              "roselynne    2\n",
              "sitara       3\n",
              "Name: count, dtype: int64"
            ]
          },
          "execution_count": 274,
          "metadata": {},
          "output_type": "execute_result"
        }
      ],
      "source": [
        "# check student names and test count\n",
        "all_word_assessment[all_word_assessment.firstname.isin(names.FirstName)].firstname.value_counts().sort_index()"
      ]
    },
    {
      "cell_type": "code",
      "execution_count": 275,
      "metadata": {
        "id": "De2QINvrVsY9"
      },
      "outputs": [],
      "source": [
        "# all section 4 word test data\n",
        "sect4_word_test = all_word_assessment[all_word_assessment.firstname.isin(names.FirstName)]\n",
        "sect4_word_test.reset_index(drop=True, inplace=True)"
      ]
    },
    {
      "cell_type": "markdown",
      "metadata": {
        "id": "bo3GGf9l3zhU"
      },
      "source": [
        "## Generate Excel Reports"
      ]
    },
    {
      "cell_type": "markdown",
      "metadata": {
        "id": "AA7XltctFh19"
      },
      "source": [
        "### Filter Incorrect Answers"
      ]
    },
    {
      "cell_type": "code",
      "execution_count": 276,
      "metadata": {
        "id": "TQcEZ6mFn4Ex"
      },
      "outputs": [],
      "source": [
        "info_df = sect4_word_test.iloc[:,:5] # student info\n",
        "responses_df = sect4_word_test.iloc[:,5:] # student response\n",
        "wrong_answer_filter = responses_df != pd.concat([answer_key] * responses_df.shape[0], ignore_index=True)\n",
        "wrong_answer_df = responses_df[wrong_answer_filter] # retain answer values that are incorrect"
      ]
    },
    {
      "cell_type": "code",
      "execution_count": 277,
      "metadata": {
        "id": "6fDv6VJkqTL2"
      },
      "outputs": [],
      "source": [
        "# final dataframe with all student information and the questions the got wrong\n",
        "final_results = pd.concat([info_df, wrong_answer_df], axis=1)"
      ]
    },
    {
      "cell_type": "code",
      "execution_count": 278,
      "metadata": {
        "colab": {
          "base_uri": "https://localhost:8080/"
        },
        "id": "QJWxCHehqTKH",
        "outputId": "4a4a511f-f491-4a4e-9816-da3426afae83"
      },
      "outputs": [
        {
          "data": {
            "text/html": [
              "<div>\n",
              "<style scoped>\n",
              "    .dataframe tbody tr th:only-of-type {\n",
              "        vertical-align: middle;\n",
              "    }\n",
              "\n",
              "    .dataframe tbody tr th {\n",
              "        vertical-align: top;\n",
              "    }\n",
              "\n",
              "    .dataframe thead th {\n",
              "        text-align: right;\n",
              "    }\n",
              "</style>\n",
              "<table border=\"1\" class=\"dataframe\">\n",
              "  <thead>\n",
              "    <tr style=\"text-align: right;\">\n",
              "      <th></th>\n",
              "      <th>timestamp</th>\n",
              "      <th>email</th>\n",
              "      <th>score</th>\n",
              "      <th>firstname</th>\n",
              "      <th>lastname</th>\n",
              "      <th>Q1</th>\n",
              "      <th>Q2</th>\n",
              "      <th>Q3</th>\n",
              "      <th>Q4</th>\n",
              "      <th>Q5</th>\n",
              "      <th>...</th>\n",
              "      <th>Q11</th>\n",
              "      <th>Q12</th>\n",
              "      <th>Q13</th>\n",
              "      <th>Q14</th>\n",
              "      <th>Q15</th>\n",
              "      <th>Q16</th>\n",
              "      <th>Q17</th>\n",
              "      <th>Q18</th>\n",
              "      <th>Q19</th>\n",
              "      <th>Q20</th>\n",
              "    </tr>\n",
              "  </thead>\n",
              "  <tbody>\n",
              "    <tr>\n",
              "      <th>0</th>\n",
              "      <td>2023-09-13 12:24:38</td>\n",
              "      <td>jahm1123@gmail.com</td>\n",
              "      <td>50 / 100</td>\n",
              "      <td>julia</td>\n",
              "      <td>hernandez-mejia</td>\n",
              "      <td>True</td>\n",
              "      <td>All of the above</td>\n",
              "      <td>Slide Show view</td>\n",
              "      <td>NaN</td>\n",
              "      <td>NaN</td>\n",
              "      <td>...</td>\n",
              "      <td>Windows View, Slide Sorter View, PowerPoint Vi...</td>\n",
              "      <td>All of the above.</td>\n",
              "      <td>NaN</td>\n",
              "      <td>Timing, Preview</td>\n",
              "      <td>NaN</td>\n",
              "      <td>Insert Tab</td>\n",
              "      <td>NaN</td>\n",
              "      <td>It is used for presenting a PowerPoint present...</td>\n",
              "      <td>NaN</td>\n",
              "      <td>NaN</td>\n",
              "    </tr>\n",
              "    <tr>\n",
              "      <th>1</th>\n",
              "      <td>2023-09-16 12:26:29</td>\n",
              "      <td>romixyz@gmail.com</td>\n",
              "      <td>80 / 100</td>\n",
              "      <td>roselynne</td>\n",
              "      <td>mizner</td>\n",
              "      <td>NaN</td>\n",
              "      <td>NaN</td>\n",
              "      <td>NaN</td>\n",
              "      <td>NaN</td>\n",
              "      <td>NaN</td>\n",
              "      <td>...</td>\n",
              "      <td>Normal View, Slide Sorter View, PowerPoint Vie...</td>\n",
              "      <td>NaN</td>\n",
              "      <td>NaN</td>\n",
              "      <td>Timing, Preview</td>\n",
              "      <td>NaN</td>\n",
              "      <td>NaN</td>\n",
              "      <td>NaN</td>\n",
              "      <td>NaN</td>\n",
              "      <td>NaN</td>\n",
              "      <td>NaN</td>\n",
              "    </tr>\n",
              "  </tbody>\n",
              "</table>\n",
              "<p>2 rows × 25 columns</p>\n",
              "</div>"
            ],
            "text/plain": [
              "            timestamp               email     score  firstname  \\\n",
              "0 2023-09-13 12:24:38  jahm1123@gmail.com  50 / 100      julia   \n",
              "1 2023-09-16 12:26:29   romixyz@gmail.com  80 / 100  roselynne   \n",
              "\n",
              "          lastname    Q1                Q2               Q3   Q4   Q5  ...  \\\n",
              "0  hernandez-mejia  True  All of the above  Slide Show view  NaN  NaN  ...   \n",
              "1           mizner   NaN               NaN              NaN  NaN  NaN  ...   \n",
              "\n",
              "                                                 Q11                Q12  Q13  \\\n",
              "0  Windows View, Slide Sorter View, PowerPoint Vi...  All of the above.  NaN   \n",
              "1  Normal View, Slide Sorter View, PowerPoint Vie...                NaN  NaN   \n",
              "\n",
              "               Q14  Q15         Q16  Q17  \\\n",
              "0  Timing, Preview  NaN  Insert Tab  NaN   \n",
              "1  Timing, Preview  NaN         NaN  NaN   \n",
              "\n",
              "                                                 Q18  Q19  Q20  \n",
              "0  It is used for presenting a PowerPoint present...  NaN  NaN  \n",
              "1                                                NaN  NaN  NaN  \n",
              "\n",
              "[2 rows x 25 columns]"
            ]
          },
          "execution_count": 278,
          "metadata": {},
          "output_type": "execute_result"
        }
      ],
      "source": [
        "final_results.head(2)"
      ]
    },
    {
      "cell_type": "markdown",
      "metadata": {
        "id": "zHrGO82sICao"
      },
      "source": [
        "### Save All Results to Dictionary"
      ]
    },
    {
      "cell_type": "code",
      "execution_count": 279,
      "metadata": {
        "id": "i4PefOkCqTAt"
      },
      "outputs": [],
      "source": [
        "cols_to_show_list = []\n",
        "grades_dict = {}\n",
        "cols_to_drop = ['timestamp', 'email', 'score', 'firstname', 'lastname']\n",
        "\n",
        "# iterate through each row\n",
        "for i, row in final_results.iterrows():\n",
        "  cols = list(final_results.columns[row.notna()]) # columns that don't contain null values\n",
        "  cols_to_show_list.append(cols)\n",
        "\n",
        "  # student answers\n",
        "  stu_name = row.firstname.strip() + \" \" + row.lastname.strip()\n",
        "  test_time = str(row.timestamp)\n",
        "\n",
        "  # check if name exists\n",
        "  if grades_dict.get(stu_name) == None:\n",
        "    grades_dict[stu_name] = {}\n",
        "  if grades_dict[stu_name].get(test_time) == None:\n",
        "    grades_dict[stu_name][test_time] = {\n",
        "        'score': row.score.split(' / ')[0],\n",
        "        'res': pd.DataFrame(row.loc[cols]).T.drop(columns=cols_to_drop),\n",
        "        'ans': answer_row[cols].drop(columns=cols_to_drop)\n",
        "    }\n",
        "  else:\n",
        "    print(row.timestamp)"
      ]
    },
    {
      "cell_type": "markdown",
      "metadata": {
        "id": "wySdxRpqYTof"
      },
      "source": [
        "### Get everyones score -> Save to one single excel file"
      ]
    },
    {
      "cell_type": "code",
      "execution_count": 280,
      "metadata": {
        "colab": {
          "base_uri": "https://localhost:8080/"
        },
        "id": "E_mBYrcVUf6g",
        "outputId": "2187d9f0-f2a2-4089-92e7-b0c497fc4628"
      },
      "outputs": [
        {
          "name": "stdout",
          "output_type": "stream",
          "text": [
            "alana chuong\n",
            "pre-class: 55.0\n",
            "post-class: 90.0\n",
            "------\n",
            "alison wong\n",
            "pre-class: 75.0\n",
            "post-class: 80.0\n",
            "------\n",
            "alona brequillo\n",
            "pre-class: 85.0\n",
            "post-class: 95.0\n",
            "------\n",
            "beverly sealey\n",
            "pre-class: 40.0\n",
            "post-class: 90.0\n",
            "------\n",
            "cherie pepper\n",
            "pre-class: 80.0\n",
            "post-class: 90.0\n",
            "------\n",
            "e sasso\n",
            "pre-class: 90.0\n",
            "post-class: 90.0\n",
            "------\n",
            "elsa wilson\n",
            "pre-class: 60.0\n",
            "post-class: 70.0\n",
            "------\n",
            "felicia pooler\n",
            "pre-class: 80.0\n",
            "post-class: nan\n",
            "------\n",
            "john niland\n",
            "pre-class: 90.0\n",
            "post-class: 90.0\n",
            "------\n",
            "julia hernandez-mejia\n",
            "pre-class: 50.0\n",
            "post-class: 75.0\n",
            "------\n",
            "mayra lindemann\n",
            "pre-class: 60.0\n",
            "post-class: 90.0\n",
            "------\n",
            "myrna gabriel\n",
            "pre-class: 65.0\n",
            "post-class: 95.0\n",
            "------\n",
            "orlando roman\n",
            "pre-class: 65.0\n",
            "post-class: 95.0\n",
            "------\n",
            "robert vargas\n",
            "pre-class: 45.0\n",
            "post-class: 95.0\n",
            "------\n",
            "roselynne mizner\n",
            "pre-class: 80.0\n",
            "post-class: 95.0\n",
            "------\n",
            "sitara shamim\n",
            "pre-class: 85.0\n",
            "post-class: 100.0\n",
            "------\n"
          ]
        }
      ],
      "source": [
        "pre_class_scores = []\n",
        "post_class_scores = []\n",
        "\n",
        "for name in fullnames.fullname.to_list():\n",
        "  print(name)\n",
        "  scores_list = []\n",
        "  for i, tup in enumerate(grades_dict[name].items()):\n",
        "    # get pre-class assessment score\n",
        "    if i == 0:\n",
        "      _, score_dict = tup\n",
        "      pre_score = float(score_dict['score'])\n",
        "      pre_class_scores.append(pre_score)\n",
        "      print('pre-class:', pre_score)\n",
        "      continue\n",
        "\n",
        "    _, score_dict = tup\n",
        "    scores_list.append(float(score_dict['score']))\n",
        "\n",
        "  # get post-class assessment highest score\n",
        "  if len(scores_list) == 0:\n",
        "    post_class_scores.append(np.NaN)\n",
        "    print('post-class:', np.NAN)\n",
        "  else:\n",
        "    highest_grade_idx = np.argmax(np.array(scores_list))\n",
        "    highest_score = scores_list[highest_grade_idx]\n",
        "    post_class_scores.append(highest_score)\n",
        "    print('post-class:', highest_score)\n",
        "  print('------')"
      ]
    },
    {
      "cell_type": "code",
      "execution_count": 281,
      "metadata": {
        "colab": {
          "base_uri": "https://localhost:8080/",
          "height": 551
        },
        "id": "rp5Jd2BfcLw2",
        "outputId": "f0031301-c6fc-4142-8ed3-404ae7f02e02"
      },
      "outputs": [
        {
          "data": {
            "text/html": [
              "<div>\n",
              "<style scoped>\n",
              "    .dataframe tbody tr th:only-of-type {\n",
              "        vertical-align: middle;\n",
              "    }\n",
              "\n",
              "    .dataframe tbody tr th {\n",
              "        vertical-align: top;\n",
              "    }\n",
              "\n",
              "    .dataframe thead th {\n",
              "        text-align: right;\n",
              "    }\n",
              "</style>\n",
              "<table border=\"1\" class=\"dataframe\">\n",
              "  <thead>\n",
              "    <tr style=\"text-align: right;\">\n",
              "      <th></th>\n",
              "      <th>name</th>\n",
              "      <th>pre-class</th>\n",
              "      <th>post-class</th>\n",
              "    </tr>\n",
              "  </thead>\n",
              "  <tbody>\n",
              "    <tr>\n",
              "      <th>0</th>\n",
              "      <td>alana chuong</td>\n",
              "      <td>55.0</td>\n",
              "      <td>90.0</td>\n",
              "    </tr>\n",
              "    <tr>\n",
              "      <th>1</th>\n",
              "      <td>alison wong</td>\n",
              "      <td>75.0</td>\n",
              "      <td>80.0</td>\n",
              "    </tr>\n",
              "    <tr>\n",
              "      <th>2</th>\n",
              "      <td>alona brequillo</td>\n",
              "      <td>85.0</td>\n",
              "      <td>95.0</td>\n",
              "    </tr>\n",
              "    <tr>\n",
              "      <th>3</th>\n",
              "      <td>beverly sealey</td>\n",
              "      <td>40.0</td>\n",
              "      <td>90.0</td>\n",
              "    </tr>\n",
              "    <tr>\n",
              "      <th>4</th>\n",
              "      <td>cherie pepper</td>\n",
              "      <td>80.0</td>\n",
              "      <td>90.0</td>\n",
              "    </tr>\n",
              "    <tr>\n",
              "      <th>5</th>\n",
              "      <td>e sasso</td>\n",
              "      <td>90.0</td>\n",
              "      <td>90.0</td>\n",
              "    </tr>\n",
              "    <tr>\n",
              "      <th>6</th>\n",
              "      <td>elsa wilson</td>\n",
              "      <td>60.0</td>\n",
              "      <td>70.0</td>\n",
              "    </tr>\n",
              "    <tr>\n",
              "      <th>7</th>\n",
              "      <td>felicia pooler</td>\n",
              "      <td>80.0</td>\n",
              "      <td>NaN</td>\n",
              "    </tr>\n",
              "    <tr>\n",
              "      <th>8</th>\n",
              "      <td>john niland</td>\n",
              "      <td>90.0</td>\n",
              "      <td>90.0</td>\n",
              "    </tr>\n",
              "    <tr>\n",
              "      <th>9</th>\n",
              "      <td>julia hernandez-mejia</td>\n",
              "      <td>50.0</td>\n",
              "      <td>75.0</td>\n",
              "    </tr>\n",
              "    <tr>\n",
              "      <th>10</th>\n",
              "      <td>mayra lindemann</td>\n",
              "      <td>60.0</td>\n",
              "      <td>90.0</td>\n",
              "    </tr>\n",
              "    <tr>\n",
              "      <th>11</th>\n",
              "      <td>myrna gabriel</td>\n",
              "      <td>65.0</td>\n",
              "      <td>95.0</td>\n",
              "    </tr>\n",
              "    <tr>\n",
              "      <th>12</th>\n",
              "      <td>orlando roman</td>\n",
              "      <td>65.0</td>\n",
              "      <td>95.0</td>\n",
              "    </tr>\n",
              "    <tr>\n",
              "      <th>13</th>\n",
              "      <td>robert vargas</td>\n",
              "      <td>45.0</td>\n",
              "      <td>95.0</td>\n",
              "    </tr>\n",
              "    <tr>\n",
              "      <th>14</th>\n",
              "      <td>roselynne mizner</td>\n",
              "      <td>80.0</td>\n",
              "      <td>95.0</td>\n",
              "    </tr>\n",
              "    <tr>\n",
              "      <th>15</th>\n",
              "      <td>sitara shamim</td>\n",
              "      <td>85.0</td>\n",
              "      <td>100.0</td>\n",
              "    </tr>\n",
              "  </tbody>\n",
              "</table>\n",
              "</div>"
            ],
            "text/plain": [
              "                     name pre-class post-class\n",
              "0            alana chuong      55.0       90.0\n",
              "1             alison wong      75.0       80.0\n",
              "2         alona brequillo      85.0       95.0\n",
              "3          beverly sealey      40.0       90.0\n",
              "4           cherie pepper      80.0       90.0\n",
              "5                 e sasso      90.0       90.0\n",
              "6             elsa wilson      60.0       70.0\n",
              "7          felicia pooler      80.0        NaN\n",
              "8             john niland      90.0       90.0\n",
              "9   julia hernandez-mejia      50.0       75.0\n",
              "10        mayra lindemann      60.0       90.0\n",
              "11          myrna gabriel      65.0       95.0\n",
              "12          orlando roman      65.0       95.0\n",
              "13          robert vargas      45.0       95.0\n",
              "14       roselynne mizner      80.0       95.0\n",
              "15          sitara shamim      85.0      100.0"
            ]
          },
          "execution_count": 281,
          "metadata": {},
          "output_type": "execute_result"
        }
      ],
      "source": [
        "full_student_grades = pd.DataFrame([fullnames.fullname.to_list(), pre_class_scores, post_class_scores]).T\n",
        "full_student_grades.columns = ['name', 'pre-class', 'post-class']\n",
        "full_student_grades"
      ]
    },
    {
      "cell_type": "markdown",
      "metadata": {
        "id": "ivgkuREmmyFA"
      },
      "source": [
        "### Save Results -> DataFrame -> Excel"
      ]
    },
    {
      "cell_type": "code",
      "execution_count": 282,
      "metadata": {},
      "outputs": [
        {
          "name": "stdout",
          "output_type": "stream",
          "text": [
            "Folder created at: /Users/kangchen/Documents/Projects/ors_auto_grading/output/powerpoint\n"
          ]
        }
      ],
      "source": [
        "out_path = os.path.join(cwd, 'output', program)\n",
        "os.makedirs(out_path, exist_ok=True)\n",
        "print('Folder created at: {}'.format(out_path))"
      ]
    },
    {
      "cell_type": "markdown",
      "metadata": {},
      "source": [
        "#### Full student report"
      ]
    },
    {
      "cell_type": "code",
      "execution_count": 283,
      "metadata": {
        "id": "cI0hPTsifKFw"
      },
      "outputs": [
        {
          "name": "stdout",
          "output_type": "stream",
          "text": [
            "Full student report created\n"
          ]
        }
      ],
      "source": [
        "full_report_path = os.path.join(out_path, f'0_all_student_{program}_report.xlsx')\n",
        "\n",
        "if os.path.exists(full_report_path):\n",
        "    raise Exception(f'File already exists at: {full_report_path}\\n'\n",
        "                    'To create new report remove existing file')\n",
        "else:    \n",
        "    full_student_grades.to_excel(full_report_path, sheet_name=f'{program}_grades', index=False)\n",
        "    if os.path.exists(full_report_path):\n",
        "        print('Full student report created')"
      ]
    },
    {
      "cell_type": "markdown",
      "metadata": {},
      "source": [
        "#### Answers"
      ]
    },
    {
      "cell_type": "code",
      "execution_count": 284,
      "metadata": {
        "colab": {
          "base_uri": "https://localhost:8080/"
        },
        "id": "lbvpQCMVtsej",
        "outputId": "26278d79-9557-498d-80dc-70b8eb5b12f5"
      },
      "outputs": [
        {
          "data": {
            "text/plain": [
              "True"
            ]
          },
          "execution_count": 284,
          "metadata": {},
          "output_type": "execute_result"
        }
      ],
      "source": [
        "# check length of data\n",
        "names.shape[0] == final_results.firstname.value_counts().count()"
      ]
    },
    {
      "cell_type": "code",
      "execution_count": 285,
      "metadata": {
        "colab": {
          "base_uri": "https://localhost:8080/"
        },
        "id": "XVG9o6wLuFGS",
        "outputId": "1891f988-b704-4ab4-dd74-e1f0a16e5fd5"
      },
      "outputs": [
        {
          "data": {
            "text/plain": [
              "True"
            ]
          },
          "execution_count": 285,
          "metadata": {},
          "output_type": "execute_result"
        }
      ],
      "source": [
        "names.shape[0] == final_results.lastname.value_counts().count()"
      ]
    },
    {
      "cell_type": "code",
      "execution_count": 286,
      "metadata": {
        "colab": {
          "base_uri": "https://localhost:8080/",
          "height": 269
        },
        "id": "v2v6lD9jyJBl",
        "outputId": "f465428e-99c5-4277-92f6-937de6d7379a"
      },
      "outputs": [
        {
          "data": {
            "text/html": [
              "<div>\n",
              "<style scoped>\n",
              "    .dataframe tbody tr th:only-of-type {\n",
              "        vertical-align: middle;\n",
              "    }\n",
              "\n",
              "    .dataframe tbody tr th {\n",
              "        vertical-align: top;\n",
              "    }\n",
              "\n",
              "    .dataframe thead th {\n",
              "        text-align: right;\n",
              "    }\n",
              "</style>\n",
              "<table border=\"1\" class=\"dataframe\">\n",
              "  <thead>\n",
              "    <tr style=\"text-align: right;\">\n",
              "      <th></th>\n",
              "      <th>timestamp</th>\n",
              "      <th>email</th>\n",
              "      <th>score</th>\n",
              "      <th>firstname</th>\n",
              "      <th>lastname</th>\n",
              "      <th>Q1</th>\n",
              "      <th>Q2</th>\n",
              "      <th>Q3</th>\n",
              "      <th>Q4</th>\n",
              "      <th>Q5</th>\n",
              "      <th>...</th>\n",
              "      <th>Q11</th>\n",
              "      <th>Q12</th>\n",
              "      <th>Q13</th>\n",
              "      <th>Q14</th>\n",
              "      <th>Q15</th>\n",
              "      <th>Q16</th>\n",
              "      <th>Q17</th>\n",
              "      <th>Q18</th>\n",
              "      <th>Q19</th>\n",
              "      <th>Q20</th>\n",
              "    </tr>\n",
              "  </thead>\n",
              "  <tbody>\n",
              "    <tr>\n",
              "      <th>0</th>\n",
              "      <td>Questions</td>\n",
              "      <td>NaN</td>\n",
              "      <td>NaN</td>\n",
              "      <td>NaN</td>\n",
              "      <td>NaN</td>\n",
              "      <td>1. True or False: To apply a theme to all of y...</td>\n",
              "      <td>2. Which of the following areas can be used on...</td>\n",
              "      <td>3. Which of the following would you select whe...</td>\n",
              "      <td>4. Select all the ways you can format text in ...</td>\n",
              "      <td>5. Which graphical element(s) can you add from...</td>\n",
              "      <td>...</td>\n",
              "      <td>11. There are four view options that are acces...</td>\n",
              "      <td>12. What function can you use to group slides ...</td>\n",
              "      <td>13. True or False: Animations and Transitions ...</td>\n",
              "      <td>14. What two groups allow you to control, cust...</td>\n",
              "      <td>15. True or False: Themes allow users to add p...</td>\n",
              "      <td>16. Which tab should you click on to display t...</td>\n",
              "      <td>17. What is meant by slide Transitions?</td>\n",
              "      <td>18. What is one of the primary functions of th...</td>\n",
              "      <td>19. True or False: Master View allows you to m...</td>\n",
              "      <td>20. During a slide show, what happens if you p...</td>\n",
              "    </tr>\n",
              "  </tbody>\n",
              "</table>\n",
              "<p>1 rows × 25 columns</p>\n",
              "</div>"
            ],
            "text/plain": [
              "   timestamp email score firstname lastname  \\\n",
              "0  Questions   NaN   NaN       NaN      NaN   \n",
              "\n",
              "                                                  Q1  \\\n",
              "0  1. True or False: To apply a theme to all of y...   \n",
              "\n",
              "                                                  Q2  \\\n",
              "0  2. Which of the following areas can be used on...   \n",
              "\n",
              "                                                  Q3  \\\n",
              "0  3. Which of the following would you select whe...   \n",
              "\n",
              "                                                  Q4  \\\n",
              "0  4. Select all the ways you can format text in ...   \n",
              "\n",
              "                                                  Q5  ...  \\\n",
              "0  5. Which graphical element(s) can you add from...  ...   \n",
              "\n",
              "                                                 Q11  \\\n",
              "0  11. There are four view options that are acces...   \n",
              "\n",
              "                                                 Q12  \\\n",
              "0  12. What function can you use to group slides ...   \n",
              "\n",
              "                                                 Q13  \\\n",
              "0  13. True or False: Animations and Transitions ...   \n",
              "\n",
              "                                                 Q14  \\\n",
              "0  14. What two groups allow you to control, cust...   \n",
              "\n",
              "                                                 Q15  \\\n",
              "0  15. True or False: Themes allow users to add p...   \n",
              "\n",
              "                                                 Q16  \\\n",
              "0  16. Which tab should you click on to display t...   \n",
              "\n",
              "                                       Q17  \\\n",
              "0  17. What is meant by slide Transitions?   \n",
              "\n",
              "                                                 Q18  \\\n",
              "0  18. What is one of the primary functions of th...   \n",
              "\n",
              "                                                 Q19  \\\n",
              "0  19. True or False: Master View allows you to m...   \n",
              "\n",
              "                                                 Q20  \n",
              "0  20. During a slide show, what happens if you p...  \n",
              "\n",
              "[1 rows x 25 columns]"
            ]
          },
          "execution_count": 286,
          "metadata": {},
          "output_type": "execute_result"
        }
      ],
      "source": [
        "questions = pd.DataFrame(col_names_to_replace.copy(), index=col_names).T\n",
        "questions.iloc[0,0] = 'Questions'\n",
        "questions.iloc[:,1:5] = np.nan\n",
        "questions"
      ]
    },
    {
      "cell_type": "code",
      "execution_count": 287,
      "metadata": {
        "colab": {
          "base_uri": "https://localhost:8080/",
          "height": 286
        },
        "id": "X94QXceF1Jq4",
        "outputId": "23d0021f-980f-4a50-ac65-aff791b9e051"
      },
      "outputs": [
        {
          "data": {
            "text/html": [
              "<div>\n",
              "<style scoped>\n",
              "    .dataframe tbody tr th:only-of-type {\n",
              "        vertical-align: middle;\n",
              "    }\n",
              "\n",
              "    .dataframe tbody tr th {\n",
              "        vertical-align: top;\n",
              "    }\n",
              "\n",
              "    .dataframe thead th {\n",
              "        text-align: right;\n",
              "    }\n",
              "</style>\n",
              "<table border=\"1\" class=\"dataframe\">\n",
              "  <thead>\n",
              "    <tr style=\"text-align: right;\">\n",
              "      <th></th>\n",
              "      <th>timestamp</th>\n",
              "      <th>email</th>\n",
              "      <th>score</th>\n",
              "      <th>firstname</th>\n",
              "      <th>lastname</th>\n",
              "      <th>Q1</th>\n",
              "      <th>Q2</th>\n",
              "      <th>Q3</th>\n",
              "      <th>Q4</th>\n",
              "      <th>Q5</th>\n",
              "      <th>...</th>\n",
              "      <th>Q11</th>\n",
              "      <th>Q12</th>\n",
              "      <th>Q13</th>\n",
              "      <th>Q14</th>\n",
              "      <th>Q15</th>\n",
              "      <th>Q16</th>\n",
              "      <th>Q17</th>\n",
              "      <th>Q18</th>\n",
              "      <th>Q19</th>\n",
              "      <th>Q20</th>\n",
              "    </tr>\n",
              "  </thead>\n",
              "  <tbody>\n",
              "    <tr>\n",
              "      <th>0</th>\n",
              "      <td>Answers</td>\n",
              "      <td>NaN</td>\n",
              "      <td>NaN</td>\n",
              "      <td>NaN</td>\n",
              "      <td>NaN</td>\n",
              "      <td>False</td>\n",
              "      <td>Text Box</td>\n",
              "      <td>Slide Master view</td>\n",
              "      <td>All of the above.</td>\n",
              "      <td>All of the above</td>\n",
              "      <td>...</td>\n",
              "      <td>Normal View, Slide Sorter View, Reading View, ...</td>\n",
              "      <td>Section</td>\n",
              "      <td>True</td>\n",
              "      <td>Timing, Advanced Animation</td>\n",
              "      <td>True</td>\n",
              "      <td>Design Tab</td>\n",
              "      <td>They are animation-like effects that occur in ...</td>\n",
              "      <td>It is used for easily reorganizing slides in a...</td>\n",
              "      <td>True</td>\n",
              "      <td>Ends the slide show.</td>\n",
              "    </tr>\n",
              "  </tbody>\n",
              "</table>\n",
              "<p>1 rows × 25 columns</p>\n",
              "</div>"
            ],
            "text/plain": [
              "  timestamp email score firstname lastname     Q1        Q2  \\\n",
              "0   Answers   NaN   NaN       NaN      NaN  False  Text Box   \n",
              "\n",
              "                  Q3                 Q4                Q5  ...  \\\n",
              "0  Slide Master view  All of the above.  All of the above  ...   \n",
              "\n",
              "                                                 Q11      Q12   Q13  \\\n",
              "0  Normal View, Slide Sorter View, Reading View, ...  Section  True   \n",
              "\n",
              "                          Q14   Q15         Q16  \\\n",
              "0  Timing, Advanced Animation  True  Design Tab   \n",
              "\n",
              "                                                 Q17  \\\n",
              "0  They are animation-like effects that occur in ...   \n",
              "\n",
              "                                                 Q18   Q19  \\\n",
              "0  It is used for easily reorganizing slides in a...  True   \n",
              "\n",
              "                    Q20  \n",
              "0  Ends the slide show.  \n",
              "\n",
              "[1 rows x 25 columns]"
            ]
          },
          "execution_count": 287,
          "metadata": {},
          "output_type": "execute_result"
        }
      ],
      "source": [
        "answer_row.iloc[0,0] = 'Answers'\n",
        "answer_row"
      ]
    },
    {
      "cell_type": "code",
      "execution_count": 288,
      "metadata": {
        "id": "kcRZkAlzujM2"
      },
      "outputs": [
        {
          "name": "stdout",
          "output_type": "stream",
          "text": [
            "alana chuong: Report created\n",
            "alison wong: Report created\n",
            "alona brequillo: Report created\n",
            "beverly sealey: Report created\n",
            "cherie pepper: Report created\n",
            "e sasso: Report created\n",
            "elsa wilson: Report created\n",
            "felicia pooler: Report created\n",
            "john niland: Report created\n",
            "julia hernandez-mejia: Report created\n",
            "mayra lindemann: Report created\n",
            "myrna gabriel: Report created\n",
            "orlando roman: Report created\n",
            "robert vargas: Report created\n",
            "roselynne mizner: Report created\n",
            "sitara shamim: Report created\n",
            "---------\n",
            "16 reports created for: powerpoint\n"
          ]
        }
      ],
      "source": [
        "# concat all dataframes and save as excel file\n",
        "n_files = 0\n",
        "\n",
        "for i, row in names.iterrows():\n",
        "  fname = row.FirstName\n",
        "  lname = row.LastName\n",
        "\n",
        "  cols = final_results.columns[final_results[final_results.firstname == fname].notna().any()]\n",
        "  report = pd.concat([questions, answer_row, final_results[final_results.firstname == fname]], axis=0).reset_index(drop=True)[cols]\n",
        "  report.fillna('-', inplace=True)\n",
        "  report.drop(columns=['email', 'firstname', 'lastname'], inplace=True)\n",
        "  report.rename(columns={'timestamp': 'Index'}, inplace=True)\n",
        "  report.set_index('Index', inplace=True)\n",
        "\n",
        "  file_path = os.path.join(out_path, f'{fname}_{lname}_{program}_report.xlsx')\n",
        "  report.to_excel(file_path, f'{fname}_{lname}')\n",
        "  \n",
        "  if os.path.exists(file_path):\n",
        "    print(f'{fname} {lname}: Report created')\n",
        "    n_files += 1\n",
        "  else:\n",
        "    raise Exception(f'Failed to create report for: {fname} {lname}')\n",
        "print('---------')\n",
        "print(f'{n_files} reports created for: {program}')"
      ]
    },
    {
      "cell_type": "markdown",
      "metadata": {},
      "source": [
        "### Save Answer Key"
      ]
    },
    {
      "cell_type": "code",
      "execution_count": 289,
      "metadata": {},
      "outputs": [],
      "source": [
        "answer_df = answer_row.iloc[:,5:]\n",
        "questions_list = col_names_to_replace[5:]\n",
        "answer_df.columns = questions_list"
      ]
    },
    {
      "cell_type": "code",
      "execution_count": 290,
      "metadata": {},
      "outputs": [
        {
          "name": "stdout",
          "output_type": "stream",
          "text": [
            "powerpoint: Answer key saved\n"
          ]
        }
      ],
      "source": [
        "answer_path = os.path.join(out_path, f'0_{program}_answers.xlsx')\n",
        "answer_df.to_excel(answer_path, f'{program}', index=False)\n",
        "\n",
        "if os.path.exists(answer_path):\n",
        "    print(f'{program}: Answer key saved')\n",
        "else:\n",
        "    raise Exception(f'Failed to save answer key for: {program}')"
      ]
    }
  ],
  "metadata": {
    "colab": {
      "collapsed_sections": [
        "wosBFFwkGR-6",
        "AA7XltctFh19"
      ],
      "provenance": []
    },
    "kernelspec": {
      "display_name": "Python 3",
      "name": "python3"
    },
    "language_info": {
      "codemirror_mode": {
        "name": "ipython",
        "version": 3
      },
      "file_extension": ".py",
      "mimetype": "text/x-python",
      "name": "python",
      "nbconvert_exporter": "python",
      "pygments_lexer": "ipython3",
      "version": "3.12.0"
    }
  },
  "nbformat": 4,
  "nbformat_minor": 0
}
